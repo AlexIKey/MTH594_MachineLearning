{
 "cells": [
  {
   "cell_type": "markdown",
   "metadata": {},
   "source": [
    "# Lecture 7"
   ]
  },
  {
   "cell_type": "markdown",
   "metadata": {},
   "source": [
    "* GAM for regression \n",
    "* GAM for classification\n",
    "* Regression decision trees\n",
    "* Classification decision trees\n",
    "* Gradient trees boosting (XGBOOST)"
   ]
  },
  {
   "cell_type": "markdown",
   "metadata": {},
   "source": [
    "Import necessary libraries:"
   ]
  },
  {
   "cell_type": "code",
   "execution_count": 2,
   "metadata": {
    "collapsed": true
   },
   "outputs": [],
   "source": [
    "import numpy as np\n",
    "import pandas as pd\n",
    "import random\n",
    "import math\n",
    "import sklearn.datasets as ds\n",
    "from sklearn.cross_validation import train_test_split\n",
    "from ml_metrics import rmse\n",
    "\n",
    "from matplotlib import cm\n",
    "from matplotlib.ticker import LinearLocator, FormatStrFormatter\n",
    "import matplotlib.pyplot as plt\n",
    "import matplotlib.animation as animation\n",
    "from matplotlib import colors\n",
    "from JSAnimation import IPython_display\n",
    "from mpl_toolkits.mplot3d import Axes3D\n",
    "%matplotlib inline"
   ]
  },
  {
   "cell_type": "markdown",
   "metadata": {},
   "source": [
    "# Generalized additive models (regression)"
   ]
  },
  {
   "cell_type": "markdown",
   "metadata": {},
   "source": [
    "In this section we will see how backfitting algorithm works. We are going to use cubic spline approximation as our building block algorithm."
   ]
  },
  {
   "cell_type": "code",
   "execution_count": 16,
   "metadata": {
    "collapsed": false
   },
   "outputs": [],
   "source": [
    "boston = ds.load_boston()\n",
    "X = boston.data\n",
    "y = boston.target/50.\n",
    "X_train, X_test, y_train, y_test = train_test_split(X, y, test_size=0.33, random_state=42)"
   ]
  },
  {
   "cell_type": "code",
   "execution_count": 19,
   "metadata": {
    "collapsed": false
   },
   "outputs": [
    {
     "name": "stdout",
     "output_type": "stream",
     "text": [
      "Number of training examples: 506\n",
      "Number of features: 13\n"
     ]
    }
   ],
   "source": [
    "print 'Number of training examples: ' + str(X.shape[0])\n",
    "print 'Number of features: ' + str(X.shape[1])"
   ]
  },
  {
   "cell_type": "code",
   "execution_count": 17,
   "metadata": {
    "collapsed": false
   },
   "outputs": [
    {
     "data": {
      "image/png": "[encoded data removed]",
      "text/plain": [
       "<matplotlib.figure.Figure at 0x1114cd750>"
      ]
     },
     "metadata": {},
     "output_type": "display_data"
    }
   ],
   "source": [
    "plt.hist(y)\n",
    "plt.show()"
   ]
  },
  {
   "cell_type": "markdown",
   "metadata": {},
   "source": [
    "Now we train generalized additive model with backfitting algorithm. The built-in function UnivariateSpline from scipy package is used as a building block of the backfitting algorithm:"
   ]
  },
  {
   "cell_type": "code",
   "execution_count": 6,
   "metadata": {
    "collapsed": true
   },
   "outputs": [],
   "source": [
    "from scipy.interpolate import UnivariateSpline"
   ]
  },
  {
   "cell_type": "code",
   "execution_count": 7,
   "metadata": {
    "collapsed": true
   },
   "outputs": [],
   "source": [
    "alpha = np.mean(y_train)\n",
    "fj = [] #no splines at the beginning\n",
    "niter = 100\n",
    "for it in range(niter):\n",
    "    for var in range(X_train.shape[1]):\n",
    "        fj_values = np.transpose(np.array([f(X_train[:,j]) for j,f in enumerate(fj) if j != var])).reshape((X_train.shape[0], -1))\n",
    "        z = y_train - alpha - np.sum(fj_values, axis=1)\n",
    "        df = pd.DataFrame()\n",
    "        df['x'] = np.round(X_train[:,var], 1)\n",
    "        df['y'] = z        \n",
    "        df.sort_values(by='x', inplace=True)\n",
    "        df = df.groupby('x')['y'].mean().reset_index()\n",
    "        # the main step of backfitting algorithm:\n",
    "        if it == 0:\n",
    "            fj.append(UnivariateSpline(df.x.values, df.y.values, k=min(len(df)-1,3)))\n",
    "        else:\n",
    "            fj[var] = UnivariateSpline(df.x.values, df.y.values, k=min(len(df)-1,3))"
   ]
  },
  {
   "cell_type": "code",
   "execution_count": 8,
   "metadata": {
    "collapsed": false
   },
   "outputs": [
    {
     "data": {
      "text/plain": [
       "[<scipy.interpolate.fitpack2.LSQUnivariateSpline at 0x110ac0c50>,\n",
       " <scipy.interpolate.fitpack2.LSQUnivariateSpline at 0x110c1e8d0>,\n",
       " <scipy.interpolate.fitpack2.LSQUnivariateSpline at 0x110c1ec50>,\n",
       " <scipy.interpolate.fitpack2.LSQUnivariateSpline at 0x110c1efd0>,\n",
       " <scipy.interpolate.fitpack2.LSQUnivariateSpline at 0x110c1ec90>,\n",
       " <scipy.interpolate.fitpack2.LSQUnivariateSpline at 0x110c1ea50>,\n",
       " <scipy.interpolate.fitpack2.LSQUnivariateSpline at 0x110c1ec10>,\n",
       " <scipy.interpolate.fitpack2.LSQUnivariateSpline at 0x110c1e550>,\n",
       " <scipy.interpolate.fitpack2.LSQUnivariateSpline at 0x110c1ecd0>,\n",
       " <scipy.interpolate.fitpack2.LSQUnivariateSpline at 0x110c1ee90>,\n",
       " <scipy.interpolate.fitpack2.LSQUnivariateSpline at 0x110ac0510>,\n",
       " <scipy.interpolate.fitpack2.LSQUnivariateSpline at 0x110ac0890>,\n",
       " <scipy.interpolate.fitpack2.LSQUnivariateSpline at 0x110ac0810>]"
      ]
     },
     "execution_count": 8,
     "metadata": {},
     "output_type": "execute_result"
    }
   ],
   "source": [
    "fj"
   ]
  },
  {
   "cell_type": "markdown",
   "metadata": {},
   "source": [
    "The result will be the set of cubic splines for each variable saved in the list fj. Now we check the accuracy on the test set:"
   ]
  },
  {
   "cell_type": "code",
   "execution_count": 9,
   "metadata": {
    "collapsed": false
   },
   "outputs": [
    {
     "name": "stdout",
     "output_type": "stream",
     "text": [
      "0.100600863408\n"
     ]
    }
   ],
   "source": [
    "fj_values = np.transpose(np.array([f(X_test[:,j]) for j,f in enumerate(fj)])).reshape((X_test.shape[0], -1))\n",
    "y_pred = alpha + np.sum(fj_values, axis=1)\n",
    "print rmse(y_test, y_pred)"
   ]
  },
  {
   "cell_type": "markdown",
   "metadata": {},
   "source": [
    "# Generalized additive models (classification)"
   ]
  },
  {
   "cell_type": "markdown",
   "metadata": {},
   "source": [
    "In this section we implement GAM for logistic regression and weighted backfitting algorithm."
   ]
  },
  {
   "cell_type": "code",
   "execution_count": 10,
   "metadata": {
    "collapsed": false
   },
   "outputs": [
    {
     "data": {
      "text/plain": [
       "<matplotlib.collections.PathCollection at 0x10c8bb7d0>"
      ]
     },
     "execution_count": 10,
     "metadata": {},
     "output_type": "execute_result"
    },
    {
     "data": {
      "image/png": "[encoded data removed]",
      "text/plain": [
       "<matplotlib.figure.Figure at 0x10c8bba50>"
      ]
     },
     "metadata": {},
     "output_type": "display_data"
    }
   ],
   "source": [
    "np.random.seed(0)\n",
    "X, y = ds.make_moons(200, noise=0.20)\n",
    "plt.scatter(X[:,0], X[:,1], s=40, c=y, cmap=cm.bwr)"
   ]
  },
  {
   "cell_type": "code",
   "execution_count": 11,
   "metadata": {
    "collapsed": false
   },
   "outputs": [],
   "source": [
    "fj = [] #no splines at the beginning\n",
    "niter = 100\n",
    "for it in range(niter):\n",
    "    y_mean = np.mean(y)\n",
    "    alpha = np.log(y_mean/(1-y_mean))\n",
    "    if it == 0:\n",
    "        eta = np.array([alpha]*X.shape[0])\n",
    "    else:\n",
    "        fj_values = np.transpose(np.array([f(X[:,j]) for j,f in enumerate(fj) if j != var])).reshape((X.shape[0], -1))\n",
    "        eta = np.array([alpha]*X.shape[0]) + np.sum(fj_values, axis=1)\n",
    "    mu = 1.0/(1 + np.exp(-1.0*eta))\n",
    "    z = eta + (y - mu)/(mu*(1-mu))\n",
    "    w = np.multiply(mu, 1.0-mu)\n",
    "    alpha_z = np.mean(z)\n",
    "    for var in range(X.shape[1]):\n",
    "        fj_values = np.transpose(np.array([f(X[:,j]) for j,f in enumerate(fj) if j != var])).reshape((X.shape[0], -1))\n",
    "        zz = z - alpha_z - np.sum(fj_values, axis=1)\n",
    "        df = pd.DataFrame()\n",
    "        df['x'] = np.round(X[:,var], 1)\n",
    "        df['y'] = zz\n",
    "        df['w'] = w\n",
    "        df.sort_values(by='x', inplace=True)\n",
    "        df = df.groupby('x')[['y', 'w']].mean().reset_index()\n",
    "        # the main step of weighted backfitting algorithm:\n",
    "        if it == 0:\n",
    "            fj.append(UnivariateSpline(df.x.values, df.y.values, df.w.values, k=min(len(df)-1,3)))\n",
    "        else:\n",
    "            fj[var] = UnivariateSpline(df.x.values, df.y.values, df.w.values, k=min(len(df)-1,3))\n",
    "    alpha = alpha_z"
   ]
  },
  {
   "cell_type": "code",
   "execution_count": 12,
   "metadata": {
    "collapsed": false
   },
   "outputs": [],
   "source": [
    "def plot_decision_boundary(X, y, alpha, fj, xmin=-0.1, xmax=1.1, ymin=-0.1, ymax=1.1):\n",
    "    fig = plt.figure(figsize=(6,6))\n",
    "    x1, x2 = np.meshgrid(np.linspace(xmin, xmax, 200),\n",
    "                         np.linspace(ymin, ymax, 200))\n",
    "    X_test = np.c_[x1.ravel(), x2.ravel()]\n",
    "    fj_values = np.transpose(np.array([f(X_test[:,j]) for j,f in enumerate(fj)])).reshape((X_test.shape[0], -1))\n",
    "    ypred = 1.0/(1.0 + np.exp(-alpha - np.sum(fj_values, axis=1)))\n",
    "    ypred = ypred.reshape(x1.shape)\n",
    "    extent = xmin, xmax, ymin, ymax\n",
    "    \n",
    "    #plt.imshow(ypred, cmap=cm.bwr, alpha=.9, interpolation='bilinear', extent = extent, origin='lower')\n",
    "    plt.imshow(ypred, cmap=cm.bwr, alpha=.9, interpolation='bilinear', extent = extent, origin='lower')\n",
    "    plt.scatter(X[:,0], X[:,1], s=40, c=y, cmap=cm.bwr)"
   ]
  },
  {
   "cell_type": "code",
   "execution_count": 13,
   "metadata": {
    "collapsed": false
   },
   "outputs": [
    {
     "data": {
      "image/png": "[encoded data removed]",
      "text/plain": [
       "<matplotlib.figure.Figure at 0x110caf450>"
      ]
     },
     "metadata": {},
     "output_type": "display_data"
    }
   ],
   "source": [
    "plot_decision_boundary(X, y, alpha, fj, xmin=np.min(X[:,0])-0.1, xmax=np.max(X[:,0])+0.1, ymin=np.min(X[:,1])-0.1, ymax=np.max(X[:,1])+0.1)"
   ]
  },
  {
   "cell_type": "markdown",
   "metadata": {},
   "source": [
    "## Regression decision tree"
   ]
  },
  {
   "cell_type": "markdown",
   "metadata": {},
   "source": [
    "First, we use the built-in implementation of the decision tree in python. "
   ]
  },
  {
   "cell_type": "code",
   "execution_count": 11,
   "metadata": {
    "collapsed": true
   },
   "outputs": [],
   "source": [
    "from sklearn.tree import DecisionTreeRegressor, export_graphviz\n",
    "from graphviz import Source\n",
    "import pydot"
   ]
  },
  {
   "cell_type": "markdown",
   "metadata": {},
   "source": [
    "We will use Boston dataset from scikit-learn package."
   ]
  },
  {
   "cell_type": "code",
   "execution_count": 12,
   "metadata": {
    "collapsed": false
   },
   "outputs": [],
   "source": [
    "boston = ds.load_boston()\n",
    "X = boston.data\n",
    "y = boston.target/50.\n",
    "X_train, X_test, y_train, y_test = train_test_split(X, y, test_size=0.33, random_state=42)"
   ]
  },
  {
   "cell_type": "markdown",
   "metadata": {},
   "source": [
    "Fit the model (notice that we use parameter max\\_depth to restrict the tree size):"
   ]
  },
  {
   "cell_type": "code",
   "execution_count": 13,
   "metadata": {
    "collapsed": true
   },
   "outputs": [],
   "source": [
    "clf = DecisionTreeRegressor(max_depth=4)\n",
    "clf = clf.fit(X_train, y_train)"
   ]
  },
  {
   "cell_type": "markdown",
   "metadata": {},
   "source": [
    "Now we visualize the resulted tree:"
   ]
  },
  {
   "cell_type": "code",
   "execution_count": 14,
   "metadata": {
    "collapsed": false
   },
   "outputs": [
    {
     "data": {
      "image/svg+xml": [
       "<?xml version=\"1.0\" encoding=\"UTF-8\" standalone=\"no\"?>\n",
       "<!DOCTYPE svg PUBLIC \"-//W3C//DTD SVG 1.1//EN\"\n",
       " \"http://www.w3.org/Graphics/SVG/1.1/DTD/svg11.dtd\">\n",
       "<!-- Generated by graphviz version 2.38.0 (20140413.2041)\n",
       " -->\n",
       "<!-- Title: Tree Pages: 1 -->\n",
       "<svg width=\"742pt\" height=\"251pt\"\n",
       " viewBox=\"0.00 0.00 742.00 251.41\" xmlns=\"http://www.w3.org/2000/svg\" xmlns:xlink=\"http://www.w3.org/1999/xlink\">\n",
       "<g id=\"graph0\" class=\"graph\" transform=\"scale(0.548933 0.548933) rotate(0) translate(4 454)\">\n",
       "<title>Tree</title>\n",
       "<polygon fill=\"white\" stroke=\"none\" points=\"-4,4 -4,-454 1347.71,-454 1347.71,4 -4,4\"/>\n",
       "<!-- 0 -->\n",
       "<g id=\"node1\" class=\"node\"><title>0</title>\n",
       "<polygon fill=\"none\" stroke=\"black\" points=\"564.582,-450 461.13,-450 461.13,-386 564.582,-386 564.582,-450\"/>\n",
       "<text text-anchor=\"middle\" x=\"512.856\" y=\"-434.8\" font-family=\"Times,serif\" font-size=\"14.00\">X[12] &lt;= 7.865</text>\n",
       "<text text-anchor=\"middle\" x=\"512.856\" y=\"-420.8\" font-family=\"Times,serif\" font-size=\"14.00\">mse = 0.0353</text>\n",
       "<text text-anchor=\"middle\" x=\"512.856\" y=\"-406.8\" font-family=\"Times,serif\" font-size=\"14.00\">samples = 339</text>\n",
       "<text text-anchor=\"middle\" x=\"512.856\" y=\"-392.8\" font-family=\"Times,serif\" font-size=\"14.00\">value = 0.4594</text>\n",
       "</g>\n",
       "<!-- 1 -->\n",
       "<g id=\"node2\" class=\"node\"><title>1</title>\n",
       "<polygon fill=\"none\" stroke=\"black\" points=\"472.57,-350 373.143,-350 373.143,-286 472.57,-286 472.57,-350\"/>\n",
       "<text text-anchor=\"middle\" x=\"422.856\" y=\"-334.8\" font-family=\"Times,serif\" font-size=\"14.00\">X[5] &lt;= 7.437</text>\n",
       "<text text-anchor=\"middle\" x=\"422.856\" y=\"-320.8\" font-family=\"Times,serif\" font-size=\"14.00\">mse = 0.0313</text>\n",
       "<text text-anchor=\"middle\" x=\"422.856\" y=\"-306.8\" font-family=\"Times,serif\" font-size=\"14.00\">samples = 106</text>\n",
       "<text text-anchor=\"middle\" x=\"422.856\" y=\"-292.8\" font-family=\"Times,serif\" font-size=\"14.00\">value = 0.6485</text>\n",
       "</g>\n",
       "<!-- 0&#45;&gt;1 -->\n",
       "<g id=\"edge1\" class=\"edge\"><title>0&#45;&gt;1</title>\n",
       "<path fill=\"none\" stroke=\"black\" d=\"M484.38,-385.992C476.09,-376.966 466.932,-366.993 458.27,-357.562\"/>\n",
       "<polygon fill=\"black\" stroke=\"black\" points=\"460.799,-355.14 451.457,-350.142 455.643,-359.875 460.799,-355.14\"/>\n",
       "<text text-anchor=\"middle\" x=\"450.394\" y=\"-370.92\" font-family=\"Times,serif\" font-size=\"14.00\">True</text>\n",
       "</g>\n",
       "<!-- 12 -->\n",
       "<g id=\"node13\" class=\"node\"><title>12</title>\n",
       "<polygon fill=\"none\" stroke=\"black\" points=\"658.082,-350 547.631,-350 547.631,-286 658.082,-286 658.082,-350\"/>\n",
       "<text text-anchor=\"middle\" x=\"602.856\" y=\"-334.8\" font-family=\"Times,serif\" font-size=\"14.00\">X[12] &lt;= 16.085</text>\n",
       "<text text-anchor=\"middle\" x=\"602.856\" y=\"-320.8\" font-family=\"Times,serif\" font-size=\"14.00\">mse = 0.0134</text>\n",
       "<text text-anchor=\"middle\" x=\"602.856\" y=\"-306.8\" font-family=\"Times,serif\" font-size=\"14.00\">samples = 233</text>\n",
       "<text text-anchor=\"middle\" x=\"602.856\" y=\"-292.8\" font-family=\"Times,serif\" font-size=\"14.00\">value = 0.3734</text>\n",
       "</g>\n",
       "<!-- 0&#45;&gt;12 -->\n",
       "<g id=\"edge12\" class=\"edge\"><title>0&#45;&gt;12</title>\n",
       "<path fill=\"none\" stroke=\"black\" d=\"M541.333,-385.992C549.623,-376.966 558.781,-366.993 567.442,-357.562\"/>\n",
       "<polygon fill=\"black\" stroke=\"black\" points=\"570.07,-359.875 574.256,-350.142 564.914,-355.14 570.07,-359.875\"/>\n",
       "<text text-anchor=\"middle\" x=\"575.319\" y=\"-370.92\" font-family=\"Times,serif\" font-size=\"14.00\">False</text>\n",
       "</g>\n",
       "<!-- 2 -->\n",
       "<g id=\"node3\" class=\"node\"><title>2</title>\n",
       "<polygon fill=\"none\" stroke=\"black\" points=\"217.57,-250 118.143,-250 118.143,-186 217.57,-186 217.57,-250\"/>\n",
       "<text text-anchor=\"middle\" x=\"167.856\" y=\"-234.8\" font-family=\"Times,serif\" font-size=\"14.00\">X[7] &lt;= 1.557</text>\n",
       "<text text-anchor=\"middle\" x=\"167.856\" y=\"-220.8\" font-family=\"Times,serif\" font-size=\"14.00\">mse = 0.0159</text>\n",
       "<text text-anchor=\"middle\" x=\"167.856\" y=\"-206.8\" font-family=\"Times,serif\" font-size=\"14.00\">samples = 84</text>\n",
       "<text text-anchor=\"middle\" x=\"167.856\" y=\"-192.8\" font-family=\"Times,serif\" font-size=\"14.00\">value = 0.5857</text>\n",
       "</g>\n",
       "<!-- 1&#45;&gt;2 -->\n",
       "<g id=\"edge2\" class=\"edge\"><title>1&#45;&gt;2</title>\n",
       "<path fill=\"none\" stroke=\"black\" d=\"M373.085,-297.872C331.359,-281.836 271.675,-258.899 227.418,-241.89\"/>\n",
       "<polygon fill=\"black\" stroke=\"black\" points=\"228.528,-238.567 217.938,-238.247 226.017,-245.101 228.528,-238.567\"/>\n",
       "</g>\n",
       "<!-- 7 -->\n",
       "<g id=\"node8\" class=\"node\"><title>7</title>\n",
       "<polygon fill=\"none\" stroke=\"black\" points=\"472.57,-250 373.143,-250 373.143,-186 472.57,-186 472.57,-250\"/>\n",
       "<text text-anchor=\"middle\" x=\"422.856\" y=\"-234.8\" font-family=\"Times,serif\" font-size=\"14.00\">X[9] &lt;= 534.5</text>\n",
       "<text text-anchor=\"middle\" x=\"422.856\" y=\"-220.8\" font-family=\"Times,serif\" font-size=\"14.00\">mse = 0.0175</text>\n",
       "<text text-anchor=\"middle\" x=\"422.856\" y=\"-206.8\" font-family=\"Times,serif\" font-size=\"14.00\">samples = 22</text>\n",
       "<text text-anchor=\"middle\" x=\"422.856\" y=\"-192.8\" font-family=\"Times,serif\" font-size=\"14.00\">value = 0.8881</text>\n",
       "</g>\n",
       "<!-- 1&#45;&gt;7 -->\n",
       "<g id=\"edge7\" class=\"edge\"><title>1&#45;&gt;7</title>\n",
       "<path fill=\"none\" stroke=\"black\" d=\"M422.856,-285.992C422.856,-277.859 422.856,-268.959 422.856,-260.378\"/>\n",
       "<polygon fill=\"black\" stroke=\"black\" points=\"426.357,-260.142 422.856,-250.142 419.357,-260.142 426.357,-260.142\"/>\n",
       "</g>\n",
       "<!-- 3 -->\n",
       "<g id=\"node4\" class=\"node\"><title>3</title>\n",
       "<polygon fill=\"none\" stroke=\"black\" points=\"100.355,-143 17.3574,-143 17.3574,-93 100.355,-93 100.355,-143\"/>\n",
       "<text text-anchor=\"middle\" x=\"58.8564\" y=\"-127.8\" font-family=\"Times,serif\" font-size=\"14.00\">mse = 0.0</text>\n",
       "<text text-anchor=\"middle\" x=\"58.8564\" y=\"-113.8\" font-family=\"Times,serif\" font-size=\"14.00\">samples = 3</text>\n",
       "<text text-anchor=\"middle\" x=\"58.8564\" y=\"-99.8\" font-family=\"Times,serif\" font-size=\"14.00\">value = 1.0</text>\n",
       "</g>\n",
       "<!-- 2&#45;&gt;3 -->\n",
       "<g id=\"edge3\" class=\"edge\"><title>2&#45;&gt;3</title>\n",
       "<path fill=\"none\" stroke=\"black\" d=\"M133.368,-185.992C120.662,-174.568 106.271,-161.63 93.5472,-150.19\"/>\n",
       "<polygon fill=\"black\" stroke=\"black\" points=\"95.6467,-147.371 85.8703,-143.288 90.9666,-152.576 95.6467,-147.371\"/>\n",
       "</g>\n",
       "<!-- 4 -->\n",
       "<g id=\"node5\" class=\"node\"><title>4</title>\n",
       "<polygon fill=\"none\" stroke=\"black\" points=\"217.57,-150 118.143,-150 118.143,-86 217.57,-86 217.57,-150\"/>\n",
       "<text text-anchor=\"middle\" x=\"167.856\" y=\"-134.8\" font-family=\"Times,serif\" font-size=\"14.00\">X[5] &lt;= 6.797</text>\n",
       "<text text-anchor=\"middle\" x=\"167.856\" y=\"-120.8\" font-family=\"Times,serif\" font-size=\"14.00\">mse = 0.0099</text>\n",
       "<text text-anchor=\"middle\" x=\"167.856\" y=\"-106.8\" font-family=\"Times,serif\" font-size=\"14.00\">samples = 81</text>\n",
       "<text text-anchor=\"middle\" x=\"167.856\" y=\"-92.8\" font-family=\"Times,serif\" font-size=\"14.00\">value = 0.5704</text>\n",
       "</g>\n",
       "<!-- 2&#45;&gt;4 -->\n",
       "<g id=\"edge4\" class=\"edge\"><title>2&#45;&gt;4</title>\n",
       "<path fill=\"none\" stroke=\"black\" d=\"M167.856,-185.992C167.856,-177.859 167.856,-168.959 167.856,-160.378\"/>\n",
       "<polygon fill=\"black\" stroke=\"black\" points=\"171.357,-160.142 167.856,-150.142 164.357,-160.142 171.357,-160.142\"/>\n",
       "</g>\n",
       "<!-- 5 -->\n",
       "<g id=\"node6\" class=\"node\"><title>5</title>\n",
       "<polygon fill=\"none\" stroke=\"black\" points=\"99.5697,-50 0.143143,-50 0.143143,-0 99.5697,-0 99.5697,-50\"/>\n",
       "<text text-anchor=\"middle\" x=\"49.8564\" y=\"-34.8\" font-family=\"Times,serif\" font-size=\"14.00\">mse = 0.0038</text>\n",
       "<text text-anchor=\"middle\" x=\"49.8564\" y=\"-20.8\" font-family=\"Times,serif\" font-size=\"14.00\">samples = 44</text>\n",
       "<text text-anchor=\"middle\" x=\"49.8564\" y=\"-6.8\" font-family=\"Times,serif\" font-size=\"14.00\">value = 0.5056</text>\n",
       "</g>\n",
       "<!-- 4&#45;&gt;5 -->\n",
       "<g id=\"edge5\" class=\"edge\"><title>4&#45;&gt;5</title>\n",
       "<path fill=\"none\" stroke=\"black\" d=\"M127.578,-85.9375C115.09,-76.3076 101.355,-65.7151 88.9498,-56.1483\"/>\n",
       "<polygon fill=\"black\" stroke=\"black\" points=\"91.0725,-53.3654 81.0163,-50.0301 86.7977,-58.9085 91.0725,-53.3654\"/>\n",
       "</g>\n",
       "<!-- 6 -->\n",
       "<g id=\"node7\" class=\"node\"><title>6</title>\n",
       "<polygon fill=\"none\" stroke=\"black\" points=\"217.57,-50 118.143,-50 118.143,-0 217.57,-0 217.57,-50\"/>\n",
       "<text text-anchor=\"middle\" x=\"167.856\" y=\"-34.8\" font-family=\"Times,serif\" font-size=\"14.00\">mse = 0.0063</text>\n",
       "<text text-anchor=\"middle\" x=\"167.856\" y=\"-20.8\" font-family=\"Times,serif\" font-size=\"14.00\">samples = 37</text>\n",
       "<text text-anchor=\"middle\" x=\"167.856\" y=\"-6.8\" font-family=\"Times,serif\" font-size=\"14.00\">value = 0.6474</text>\n",
       "</g>\n",
       "<!-- 4&#45;&gt;6 -->\n",
       "<g id=\"edge6\" class=\"edge\"><title>4&#45;&gt;6</title>\n",
       "<path fill=\"none\" stroke=\"black\" d=\"M167.856,-85.9375C167.856,-77.6833 167.856,-68.7219 167.856,-60.3053\"/>\n",
       "<polygon fill=\"black\" stroke=\"black\" points=\"171.357,-60.03 167.856,-50.0301 164.357,-60.0301 171.357,-60.03\"/>\n",
       "</g>\n",
       "<!-- 8 -->\n",
       "<g id=\"node9\" class=\"node\"><title>8</title>\n",
       "<polygon fill=\"none\" stroke=\"black\" points=\"417.582,-150 314.13,-150 314.13,-86 417.582,-86 417.582,-150\"/>\n",
       "<text text-anchor=\"middle\" x=\"365.856\" y=\"-134.8\" font-family=\"Times,serif\" font-size=\"14.00\">X[0] &lt;= 0.5768</text>\n",
       "<text text-anchor=\"middle\" x=\"365.856\" y=\"-120.8\" font-family=\"Times,serif\" font-size=\"14.00\">mse = 0.0082</text>\n",
       "<text text-anchor=\"middle\" x=\"365.856\" y=\"-106.8\" font-family=\"Times,serif\" font-size=\"14.00\">samples = 21</text>\n",
       "<text text-anchor=\"middle\" x=\"365.856\" y=\"-92.8\" font-family=\"Times,serif\" font-size=\"14.00\">value = 0.9095</text>\n",
       "</g>\n",
       "<!-- 7&#45;&gt;8 -->\n",
       "<g id=\"edge8\" class=\"edge\"><title>7&#45;&gt;8</title>\n",
       "<path fill=\"none\" stroke=\"black\" d=\"M404.821,-185.992C399.831,-177.413 394.344,-167.978 389.102,-158.966\"/>\n",
       "<polygon fill=\"black\" stroke=\"black\" points=\"392.023,-157.027 383.97,-150.142 385.972,-160.546 392.023,-157.027\"/>\n",
       "</g>\n",
       "<!-- 11 -->\n",
       "<g id=\"node12\" class=\"node\"><title>11</title>\n",
       "<polygon fill=\"none\" stroke=\"black\" points=\"528.07,-143 435.643,-143 435.643,-93 528.07,-93 528.07,-143\"/>\n",
       "<text text-anchor=\"middle\" x=\"481.856\" y=\"-127.8\" font-family=\"Times,serif\" font-size=\"14.00\">mse = 0.0</text>\n",
       "<text text-anchor=\"middle\" x=\"481.856\" y=\"-113.8\" font-family=\"Times,serif\" font-size=\"14.00\">samples = 1</text>\n",
       "<text text-anchor=\"middle\" x=\"481.856\" y=\"-99.8\" font-family=\"Times,serif\" font-size=\"14.00\">value = 0.438</text>\n",
       "</g>\n",
       "<!-- 7&#45;&gt;11 -->\n",
       "<g id=\"edge11\" class=\"edge\"><title>7&#45;&gt;11</title>\n",
       "<path fill=\"none\" stroke=\"black\" d=\"M441.524,-185.992C448.013,-175.215 455.313,-163.09 461.901,-152.146\"/>\n",
       "<polygon fill=\"black\" stroke=\"black\" points=\"465.075,-153.66 467.234,-143.288 459.078,-150.05 465.075,-153.66\"/>\n",
       "</g>\n",
       "<!-- 9 -->\n",
       "<g id=\"node10\" class=\"node\"><title>9</title>\n",
       "<polygon fill=\"none\" stroke=\"black\" points=\"335.57,-50 236.143,-50 236.143,-0 335.57,-0 335.57,-50\"/>\n",
       "<text text-anchor=\"middle\" x=\"285.856\" y=\"-34.8\" font-family=\"Times,serif\" font-size=\"14.00\">mse = 0.0069</text>\n",
       "<text text-anchor=\"middle\" x=\"285.856\" y=\"-20.8\" font-family=\"Times,serif\" font-size=\"14.00\">samples = 15</text>\n",
       "<text text-anchor=\"middle\" x=\"285.856\" y=\"-6.8\" font-family=\"Times,serif\" font-size=\"14.00\">value = 0.8733</text>\n",
       "</g>\n",
       "<!-- 8&#45;&gt;9 -->\n",
       "<g id=\"edge9\" class=\"edge\"><title>8&#45;&gt;9</title>\n",
       "<path fill=\"none\" stroke=\"black\" d=\"M338.549,-85.9375C330.567,-76.8578 321.832,-66.9225 313.811,-57.798\"/>\n",
       "<polygon fill=\"black\" stroke=\"black\" points=\"316.213,-55.2296 306.982,-50.0301 310.956,-59.8514 316.213,-55.2296\"/>\n",
       "</g>\n",
       "<!-- 10 -->\n",
       "<g id=\"node11\" class=\"node\"><title>10</title>\n",
       "<polygon fill=\"none\" stroke=\"black\" points=\"436.355,-50 353.357,-50 353.357,-0 436.355,-0 436.355,-50\"/>\n",
       "<text text-anchor=\"middle\" x=\"394.856\" y=\"-34.8\" font-family=\"Times,serif\" font-size=\"14.00\">mse = &#45;0.0</text>\n",
       "<text text-anchor=\"middle\" x=\"394.856\" y=\"-20.8\" font-family=\"Times,serif\" font-size=\"14.00\">samples = 6</text>\n",
       "<text text-anchor=\"middle\" x=\"394.856\" y=\"-6.8\" font-family=\"Times,serif\" font-size=\"14.00\">value = 1.0</text>\n",
       "</g>\n",
       "<!-- 8&#45;&gt;10 -->\n",
       "<g id=\"edge10\" class=\"edge\"><title>8&#45;&gt;10</title>\n",
       "<path fill=\"none\" stroke=\"black\" d=\"M375.755,-85.9375C378.444,-77.4998 381.369,-68.3232 384.103,-59.7451\"/>\n",
       "<polygon fill=\"black\" stroke=\"black\" points=\"387.497,-60.6207 387.199,-50.0301 380.827,-58.4952 387.497,-60.6207\"/>\n",
       "</g>\n",
       "<!-- 13 -->\n",
       "<g id=\"node14\" class=\"node\"><title>13</title>\n",
       "<polygon fill=\"none\" stroke=\"black\" points=\"652.57,-250 553.143,-250 553.143,-186 652.57,-186 652.57,-250\"/>\n",
       "<text text-anchor=\"middle\" x=\"602.856\" y=\"-234.8\" font-family=\"Times,serif\" font-size=\"14.00\">X[5] &lt;= 6.603</text>\n",
       "<text text-anchor=\"middle\" x=\"602.856\" y=\"-220.8\" font-family=\"Times,serif\" font-size=\"14.00\">mse = 0.0084</text>\n",
       "<text text-anchor=\"middle\" x=\"602.856\" y=\"-206.8\" font-family=\"Times,serif\" font-size=\"14.00\">samples = 143</text>\n",
       "<text text-anchor=\"middle\" x=\"602.856\" y=\"-192.8\" font-family=\"Times,serif\" font-size=\"14.00\">value = 0.4323</text>\n",
       "</g>\n",
       "<!-- 12&#45;&gt;13 -->\n",
       "<g id=\"edge13\" class=\"edge\"><title>12&#45;&gt;13</title>\n",
       "<path fill=\"none\" stroke=\"black\" d=\"M602.856,-285.992C602.856,-277.859 602.856,-268.959 602.856,-260.378\"/>\n",
       "<polygon fill=\"black\" stroke=\"black\" points=\"606.357,-260.142 602.856,-250.142 599.357,-260.142 606.357,-260.142\"/>\n",
       "</g>\n",
       "<!-- 20 -->\n",
       "<g id=\"node21\" class=\"node\"><title>20</title>\n",
       "<polygon fill=\"none\" stroke=\"black\" points=\"1053.58,-250 950.13,-250 950.13,-186 1053.58,-186 1053.58,-250\"/>\n",
       "<text text-anchor=\"middle\" x=\"1001.86\" y=\"-234.8\" font-family=\"Times,serif\" font-size=\"14.00\">X[7] &lt;= 2.0677</text>\n",
       "<text text-anchor=\"middle\" x=\"1001.86\" y=\"-220.8\" font-family=\"Times,serif\" font-size=\"14.00\">mse = 0.007</text>\n",
       "<text text-anchor=\"middle\" x=\"1001.86\" y=\"-206.8\" font-family=\"Times,serif\" font-size=\"14.00\">samples = 90</text>\n",
       "<text text-anchor=\"middle\" x=\"1001.86\" y=\"-192.8\" font-family=\"Times,serif\" font-size=\"14.00\">value = 0.2798</text>\n",
       "</g>\n",
       "<!-- 12&#45;&gt;20 -->\n",
       "<g id=\"edge20\" class=\"edge\"><title>12&#45;&gt;20</title>\n",
       "<path fill=\"none\" stroke=\"black\" d=\"M658.336,-303.374C732.315,-285.203 862.87,-253.137 939.963,-234.202\"/>\n",
       "<polygon fill=\"black\" stroke=\"black\" points=\"941.137,-237.518 950.014,-231.733 939.468,-230.72 941.137,-237.518\"/>\n",
       "</g>\n",
       "<!-- 14 -->\n",
       "<g id=\"node15\" class=\"node\"><title>14</title>\n",
       "<polygon fill=\"none\" stroke=\"black\" points=\"652.582,-150 549.13,-150 549.13,-86 652.582,-86 652.582,-150\"/>\n",
       "<text text-anchor=\"middle\" x=\"600.856\" y=\"-134.8\" font-family=\"Times,serif\" font-size=\"14.00\">X[7] &lt;= 1.2074</text>\n",
       "<text text-anchor=\"middle\" x=\"600.856\" y=\"-120.8\" font-family=\"Times,serif\" font-size=\"14.00\">mse = 0.0062</text>\n",
       "<text text-anchor=\"middle\" x=\"600.856\" y=\"-106.8\" font-family=\"Times,serif\" font-size=\"14.00\">samples = 129</text>\n",
       "<text text-anchor=\"middle\" x=\"600.856\" y=\"-92.8\" font-family=\"Times,serif\" font-size=\"14.00\">value = 0.4166</text>\n",
       "</g>\n",
       "<!-- 13&#45;&gt;14 -->\n",
       "<g id=\"edge14\" class=\"edge\"><title>13&#45;&gt;14</title>\n",
       "<path fill=\"none\" stroke=\"black\" d=\"M602.224,-185.992C602.058,-177.859 601.876,-168.959 601.701,-160.378\"/>\n",
       "<polygon fill=\"black\" stroke=\"black\" points=\"605.195,-160.069 601.492,-150.142 598.197,-160.212 605.195,-160.069\"/>\n",
       "</g>\n",
       "<!-- 17 -->\n",
       "<g id=\"node18\" class=\"node\"><title>17</title>\n",
       "<polygon fill=\"none\" stroke=\"black\" points=\"774.582,-150 671.13,-150 671.13,-86 774.582,-86 774.582,-150\"/>\n",
       "<text text-anchor=\"middle\" x=\"722.856\" y=\"-134.8\" font-family=\"Times,serif\" font-size=\"14.00\">X[5] &lt;= 6.9825</text>\n",
       "<text text-anchor=\"middle\" x=\"722.856\" y=\"-120.8\" font-family=\"Times,serif\" font-size=\"14.00\">mse = 0.0062</text>\n",
       "<text text-anchor=\"middle\" x=\"722.856\" y=\"-106.8\" font-family=\"Times,serif\" font-size=\"14.00\">samples = 14</text>\n",
       "<text text-anchor=\"middle\" x=\"722.856\" y=\"-92.8\" font-family=\"Times,serif\" font-size=\"14.00\">value = 0.5771</text>\n",
       "</g>\n",
       "<!-- 13&#45;&gt;17 -->\n",
       "<g id=\"edge17\" class=\"edge\"><title>13&#45;&gt;17</title>\n",
       "<path fill=\"none\" stroke=\"black\" d=\"M640.825,-185.992C652.206,-176.698 664.816,-166.4 676.665,-156.723\"/>\n",
       "<polygon fill=\"black\" stroke=\"black\" points=\"679.191,-159.179 684.723,-150.142 674.764,-153.757 679.191,-159.179\"/>\n",
       "</g>\n",
       "<!-- 15 -->\n",
       "<g id=\"node16\" class=\"node\"><title>15</title>\n",
       "<polygon fill=\"none\" stroke=\"black\" points=\"537.355,-50 454.357,-50 454.357,-0 537.355,-0 537.355,-50\"/>\n",
       "<text text-anchor=\"middle\" x=\"495.856\" y=\"-34.8\" font-family=\"Times,serif\" font-size=\"14.00\">mse = 0.0</text>\n",
       "<text text-anchor=\"middle\" x=\"495.856\" y=\"-20.8\" font-family=\"Times,serif\" font-size=\"14.00\">samples = 1</text>\n",
       "<text text-anchor=\"middle\" x=\"495.856\" y=\"-6.8\" font-family=\"Times,serif\" font-size=\"14.00\">value = 1.0</text>\n",
       "</g>\n",
       "<!-- 14&#45;&gt;15 -->\n",
       "<g id=\"edge15\" class=\"edge\"><title>14&#45;&gt;15</title>\n",
       "<path fill=\"none\" stroke=\"black\" d=\"M565.015,-85.9375C554.115,-76.491 542.147,-66.1182 531.275,-56.6961\"/>\n",
       "<polygon fill=\"black\" stroke=\"black\" points=\"533.433,-53.9345 523.583,-50.0301 528.848,-59.2243 533.433,-53.9345\"/>\n",
       "</g>\n",
       "<!-- 16 -->\n",
       "<g id=\"node17\" class=\"node\"><title>16</title>\n",
       "<polygon fill=\"none\" stroke=\"black\" points=\"652.355,-50 555.357,-50 555.357,-0 652.355,-0 652.355,-50\"/>\n",
       "<text text-anchor=\"middle\" x=\"603.856\" y=\"-34.8\" font-family=\"Times,serif\" font-size=\"14.00\">mse = 0.0035</text>\n",
       "<text text-anchor=\"middle\" x=\"603.856\" y=\"-20.8\" font-family=\"Times,serif\" font-size=\"14.00\">samples = 128</text>\n",
       "<text text-anchor=\"middle\" x=\"603.856\" y=\"-6.8\" font-family=\"Times,serif\" font-size=\"14.00\">value = 0.412</text>\n",
       "</g>\n",
       "<!-- 14&#45;&gt;16 -->\n",
       "<g id=\"edge16\" class=\"edge\"><title>14&#45;&gt;16</title>\n",
       "<path fill=\"none\" stroke=\"black\" d=\"M601.88,-85.9375C602.156,-77.5916 602.455,-68.5226 602.735,-60.025\"/>\n",
       "<polygon fill=\"black\" stroke=\"black\" points=\"606.233,-60.14 603.064,-50.0301 599.237,-59.9093 606.233,-60.14\"/>\n",
       "</g>\n",
       "<!-- 18 -->\n",
       "<g id=\"node19\" class=\"node\"><title>18</title>\n",
       "<polygon fill=\"none\" stroke=\"black\" points=\"769.57,-50 670.143,-50 670.143,-0 769.57,-0 769.57,-50\"/>\n",
       "<text text-anchor=\"middle\" x=\"719.856\" y=\"-34.8\" font-family=\"Times,serif\" font-size=\"14.00\">mse = 0.0023</text>\n",
       "<text text-anchor=\"middle\" x=\"719.856\" y=\"-20.8\" font-family=\"Times,serif\" font-size=\"14.00\">samples = 8</text>\n",
       "<text text-anchor=\"middle\" x=\"719.856\" y=\"-6.8\" font-family=\"Times,serif\" font-size=\"14.00\">value = 0.5218</text>\n",
       "</g>\n",
       "<!-- 17&#45;&gt;18 -->\n",
       "<g id=\"edge18\" class=\"edge\"><title>17&#45;&gt;18</title>\n",
       "<path fill=\"none\" stroke=\"black\" d=\"M721.832,-85.9375C721.557,-77.5916 721.258,-68.5226 720.978,-60.025\"/>\n",
       "<polygon fill=\"black\" stroke=\"black\" points=\"724.476,-59.9093 720.649,-50.0301 717.48,-60.14 724.476,-59.9093\"/>\n",
       "</g>\n",
       "<!-- 19 -->\n",
       "<g id=\"node20\" class=\"node\"><title>19</title>\n",
       "<polygon fill=\"none\" stroke=\"black\" points=\"880.07,-50 787.643,-50 787.643,-0 880.07,-0 880.07,-50\"/>\n",
       "<text text-anchor=\"middle\" x=\"833.856\" y=\"-34.8\" font-family=\"Times,serif\" font-size=\"14.00\">mse = 0.0019</text>\n",
       "<text text-anchor=\"middle\" x=\"833.856\" y=\"-20.8\" font-family=\"Times,serif\" font-size=\"14.00\">samples = 6</text>\n",
       "<text text-anchor=\"middle\" x=\"833.856\" y=\"-6.8\" font-family=\"Times,serif\" font-size=\"14.00\">value = 0.651</text>\n",
       "</g>\n",
       "<!-- 17&#45;&gt;19 -->\n",
       "<g id=\"edge19\" class=\"edge\"><title>17&#45;&gt;19</title>\n",
       "<path fill=\"none\" stroke=\"black\" d=\"M760.746,-85.9375C772.38,-76.3993 785.167,-65.9167 796.748,-56.4219\"/>\n",
       "<polygon fill=\"black\" stroke=\"black\" points=\"799.031,-59.0768 804.545,-50.0301 794.593,-53.6634 799.031,-59.0768\"/>\n",
       "</g>\n",
       "<!-- 21 -->\n",
       "<g id=\"node22\" class=\"node\"><title>21</title>\n",
       "<polygon fill=\"none\" stroke=\"black\" points=\"1051.57,-150 952.143,-150 952.143,-86 1051.57,-86 1051.57,-150\"/>\n",
       "<text text-anchor=\"middle\" x=\"1001.86\" y=\"-134.8\" font-family=\"Times,serif\" font-size=\"14.00\">X[9] &lt;= 551.5</text>\n",
       "<text text-anchor=\"middle\" x=\"1001.86\" y=\"-120.8\" font-family=\"Times,serif\" font-size=\"14.00\">mse = 0.0039</text>\n",
       "<text text-anchor=\"middle\" x=\"1001.86\" y=\"-106.8\" font-family=\"Times,serif\" font-size=\"14.00\">samples = 54</text>\n",
       "<text text-anchor=\"middle\" x=\"1001.86\" y=\"-92.8\" font-family=\"Times,serif\" font-size=\"14.00\">value = 0.2382</text>\n",
       "</g>\n",
       "<!-- 20&#45;&gt;21 -->\n",
       "<g id=\"edge21\" class=\"edge\"><title>20&#45;&gt;21</title>\n",
       "<path fill=\"none\" stroke=\"black\" d=\"M1001.86,-185.992C1001.86,-177.859 1001.86,-168.959 1001.86,-160.378\"/>\n",
       "<polygon fill=\"black\" stroke=\"black\" points=\"1005.36,-160.142 1001.86,-150.142 998.357,-160.142 1005.36,-160.142\"/>\n",
       "</g>\n",
       "<!-- 24 -->\n",
       "<g id=\"node25\" class=\"node\"><title>24</title>\n",
       "<polygon fill=\"none\" stroke=\"black\" points=\"1227.58,-150 1124.13,-150 1124.13,-86 1227.58,-86 1227.58,-150\"/>\n",
       "<text text-anchor=\"middle\" x=\"1175.86\" y=\"-134.8\" font-family=\"Times,serif\" font-size=\"14.00\">X[0] &lt;= 0.7568</text>\n",
       "<text text-anchor=\"middle\" x=\"1175.86\" y=\"-120.8\" font-family=\"Times,serif\" font-size=\"14.00\">mse = 0.0053</text>\n",
       "<text text-anchor=\"middle\" x=\"1175.86\" y=\"-106.8\" font-family=\"Times,serif\" font-size=\"14.00\">samples = 36</text>\n",
       "<text text-anchor=\"middle\" x=\"1175.86\" y=\"-92.8\" font-family=\"Times,serif\" font-size=\"14.00\">value = 0.3422</text>\n",
       "</g>\n",
       "<!-- 20&#45;&gt;24 -->\n",
       "<g id=\"edge24\" class=\"edge\"><title>20&#45;&gt;24</title>\n",
       "<path fill=\"none\" stroke=\"black\" d=\"M1053.59,-187.862C1072.96,-176.951 1095.14,-164.459 1115.25,-153.136\"/>\n",
       "<polygon fill=\"black\" stroke=\"black\" points=\"1117.03,-156.152 1124.02,-148.195 1113.59,-150.053 1117.03,-156.152\"/>\n",
       "</g>\n",
       "<!-- 22 -->\n",
       "<g id=\"node23\" class=\"node\"><title>22</title>\n",
       "<polygon fill=\"none\" stroke=\"black\" points=\"997.57,-50 898.143,-50 898.143,-0 997.57,-0 997.57,-50\"/>\n",
       "<text text-anchor=\"middle\" x=\"947.856\" y=\"-34.8\" font-family=\"Times,serif\" font-size=\"14.00\">mse = 0.0011</text>\n",
       "<text text-anchor=\"middle\" x=\"947.856\" y=\"-20.8\" font-family=\"Times,serif\" font-size=\"14.00\">samples = 15</text>\n",
       "<text text-anchor=\"middle\" x=\"947.856\" y=\"-6.8\" font-family=\"Times,serif\" font-size=\"14.00\">value = 0.2987</text>\n",
       "</g>\n",
       "<!-- 21&#45;&gt;22 -->\n",
       "<g id=\"edge22\" class=\"edge\"><title>21&#45;&gt;22</title>\n",
       "<path fill=\"none\" stroke=\"black\" d=\"M983.424,-85.9375C978.254,-77.2247 972.616,-67.724 967.384,-58.9078\"/>\n",
       "<polygon fill=\"black\" stroke=\"black\" points=\"970.229,-56.8438 962.116,-50.0301 964.209,-60.4161 970.229,-56.8438\"/>\n",
       "</g>\n",
       "<!-- 23 -->\n",
       "<g id=\"node24\" class=\"node\"><title>23</title>\n",
       "<polygon fill=\"none\" stroke=\"black\" points=\"1108.07,-50 1015.64,-50 1015.64,-0 1108.07,-0 1108.07,-50\"/>\n",
       "<text text-anchor=\"middle\" x=\"1061.86\" y=\"-34.8\" font-family=\"Times,serif\" font-size=\"14.00\">mse = 0.003</text>\n",
       "<text text-anchor=\"middle\" x=\"1061.86\" y=\"-20.8\" font-family=\"Times,serif\" font-size=\"14.00\">samples = 39</text>\n",
       "<text text-anchor=\"middle\" x=\"1061.86\" y=\"-6.8\" font-family=\"Times,serif\" font-size=\"14.00\">value = 0.215</text>\n",
       "</g>\n",
       "<!-- 21&#45;&gt;23 -->\n",
       "<g id=\"edge23\" class=\"edge\"><title>21&#45;&gt;23</title>\n",
       "<path fill=\"none\" stroke=\"black\" d=\"M1022.34,-85.9375C1028.14,-77.133 1034.48,-67.5239 1040.34,-58.6297\"/>\n",
       "<polygon fill=\"black\" stroke=\"black\" points=\"1043.43,-60.3053 1046.01,-50.0301 1037.59,-56.4521 1043.43,-60.3053\"/>\n",
       "</g>\n",
       "<!-- 25 -->\n",
       "<g id=\"node26\" class=\"node\"><title>25</title>\n",
       "<polygon fill=\"none\" stroke=\"black\" points=\"1225.57,-50 1126.14,-50 1126.14,-0 1225.57,-0 1225.57,-50\"/>\n",
       "<text text-anchor=\"middle\" x=\"1175.86\" y=\"-34.8\" font-family=\"Times,serif\" font-size=\"14.00\">mse = 0.0045</text>\n",
       "<text text-anchor=\"middle\" x=\"1175.86\" y=\"-20.8\" font-family=\"Times,serif\" font-size=\"14.00\">samples = 15</text>\n",
       "<text text-anchor=\"middle\" x=\"1175.86\" y=\"-6.8\" font-family=\"Times,serif\" font-size=\"14.00\">value = 0.3952</text>\n",
       "</g>\n",
       "<!-- 24&#45;&gt;25 -->\n",
       "<g id=\"edge25\" class=\"edge\"><title>24&#45;&gt;25</title>\n",
       "<path fill=\"none\" stroke=\"black\" d=\"M1175.86,-85.9375C1175.86,-77.6833 1175.86,-68.7219 1175.86,-60.3053\"/>\n",
       "<polygon fill=\"black\" stroke=\"black\" points=\"1179.36,-60.03 1175.86,-50.0301 1172.36,-60.0301 1179.36,-60.03\"/>\n",
       "</g>\n",
       "<!-- 26 -->\n",
       "<g id=\"node27\" class=\"node\"><title>26</title>\n",
       "<polygon fill=\"none\" stroke=\"black\" points=\"1343.57,-50 1244.14,-50 1244.14,-0 1343.57,-0 1343.57,-50\"/>\n",
       "<text text-anchor=\"middle\" x=\"1293.86\" y=\"-34.8\" font-family=\"Times,serif\" font-size=\"14.00\">mse = 0.0024</text>\n",
       "<text text-anchor=\"middle\" x=\"1293.86\" y=\"-20.8\" font-family=\"Times,serif\" font-size=\"14.00\">samples = 21</text>\n",
       "<text text-anchor=\"middle\" x=\"1293.86\" y=\"-6.8\" font-family=\"Times,serif\" font-size=\"14.00\">value = 0.3044</text>\n",
       "</g>\n",
       "<!-- 24&#45;&gt;26 -->\n",
       "<g id=\"edge26\" class=\"edge\"><title>24&#45;&gt;26</title>\n",
       "<path fill=\"none\" stroke=\"black\" d=\"M1216.14,-85.9375C1228.62,-76.3076 1242.36,-65.7151 1254.76,-56.1483\"/>\n",
       "<polygon fill=\"black\" stroke=\"black\" points=\"1256.92,-58.9085 1262.7,-50.0301 1252.64,-53.3654 1256.92,-58.9085\"/>\n",
       "</g>\n",
       "</g>\n",
       "</svg>\n"
      ],
      "text/plain": [
       "<graphviz.files.Source at 0x10c6bac90>"
      ]
     },
     "execution_count": 14,
     "metadata": {},
     "output_type": "execute_result"
    }
   ],
   "source": [
    "export_graphviz(clf, out_file='regression_tree_scikit.dot') #produces dot file\n",
    "dot = open('regression_tree_scikit.dot').read()\n",
    "dot = dot.replace('node [shape=box] ;', 'node [shape=box] ;\\ngraph [size=\"10.3,10.3!\"];')\n",
    "dot = Source(dot)\n",
    "dot\n",
    "#### another way to save it to png file and use matplotlib ####\n",
    "#from StringIO import StringIO\n",
    "#from scipy import misc\n",
    "#dotfile = StringIO()\n",
    "#export_graphviz(clf, out_file=dotfile)\n",
    "#pydot.graph_from_dot_data(dotfile.getvalue()).write_png(\"dtree.png\")\n",
    "#plt.figure(figsize=(30,10))\n",
    "#plt.imshow(misc.imread('dtree.png'))\n",
    "#plt.show()"
   ]
  },
  {
   "cell_type": "code",
   "execution_count": 15,
   "metadata": {
    "collapsed": false
   },
   "outputs": [
    {
     "name": "stdout",
     "output_type": "stream",
     "text": [
      "0.0771597318202\n"
     ]
    }
   ],
   "source": [
    "y_pred = clf.predict(X_test)\n",
    "print rmse(y_test, y_pred)"
   ]
  },
  {
   "cell_type": "markdown",
   "metadata": {},
   "source": [
    "We are going to show a simple implementation of decision tree algorithm from scratch. There are different possibilities to implement the decision tree in Python. We will create two classes for node and tree, accordingly. Node class contains the description of each node and pointer to father and daughter nodes, and tree will contain all nodes and functions for splitting and predicton. As a bonus I have added the function that saves tree structure in the dot file."
   ]
  },
  {
   "cell_type": "code",
   "execution_count": 18,
   "metadata": {
    "collapsed": true
   },
   "outputs": [],
   "source": [
    "class Node():\n",
    "    def __init__(self, id, samples, prediction, error, father_node=None):\n",
    "        if father_node is None: ### it means that the node is a root node\n",
    "            self.depth = 0\n",
    "        else:\n",
    "            self.depth = father_node.depth + 1\n",
    "        self.father_node = father_node\n",
    "        self.id = id\n",
    "        self.samples = np.array(samples)\n",
    "        self.prediction = prediction\n",
    "        self.error = error\n",
    "        self.j = None\n",
    "        self.t = None\n",
    "\n",
    "class RegressionTree():\n",
    "    def __init__(self, X, y, max_depth=5, min_samples_leaf = 1):\n",
    "        self.X = X\n",
    "        self.y = y\n",
    "        self.max_depth = max_depth\n",
    "        self.min_samples_leaf = min_samples_leaf\n",
    "        self.nodes = []\n",
    "        mu, err = self.error(y)\n",
    "        self.nodes.append(Node(0, [x for x in range(X.shape[0])], mu, err))\n",
    "        self.nodes_to_split = [0]\n",
    "\n",
    "    def error(self, y):\n",
    "        p = np.mean(y)\n",
    "        return p, np.mean(np.power(y-p, 2))\n",
    "        \n",
    "    def split_next_node(self):\n",
    "        if len(self.nodes_to_split) == 0:\n",
    "            return\n",
    "        node = self.nodes[self.nodes_to_split[0]]\n",
    "        del self.nodes_to_split[0]\n",
    "        if (node.depth >= self.max_depth or len(node.samples)<=2*self.min_samples_leaf-1):\n",
    "            node.left = None\n",
    "            node.right = None\n",
    "            return\n",
    "        best_j = -999\n",
    "        best_t = -999\n",
    "        best_se1 = node.error*len(node.samples)\n",
    "        best_se2 = node.error*len(node.samples)\n",
    "        best_mu1 = -999\n",
    "        best_mu2 = -999\n",
    "        for j in range(self.X.shape[1]):\n",
    "            Xj = self.X[node.samples,j]\n",
    "            Xj_min = np.min(Xj)\n",
    "            Xj_max = np.max(Xj)\n",
    "            for t in np.linspace(Xj_min, Xj_max, 300):\n",
    "                y_left = self.y[node.samples][Xj<t]\n",
    "                y_right = self.y[node.samples][Xj>=t]\n",
    "                if (len(y_left)<self.min_samples_leaf or len(y_right)<self.min_samples_leaf):\n",
    "                    continue\n",
    "                mu1, mse1 = self.error(y_left)\n",
    "                mu2, mse2 = self.error(y_right)\n",
    "                se1 = mse1*len(y_left)\n",
    "                se2 = mse2*len(y_right)\n",
    "                if (se1 + se2) < (best_se1 + best_se2):\n",
    "                    best_j = j\n",
    "                    best_t = t\n",
    "                    samples_left = node.samples[Xj<t]\n",
    "                    samples_right = node.samples[Xj>=t]\n",
    "                    best_mu1 = mu1\n",
    "                    best_mu2 = mu2\n",
    "                    best_se1 = se1\n",
    "                    best_se2 = se2\n",
    "                    best_mse1 = mse1\n",
    "                    best_mse2 = mse2\n",
    "        if best_j == -999:\n",
    "            node.left = None\n",
    "            node.right = None\n",
    "        else:\n",
    "            node.left = Node(len(self.nodes), samples_left, best_mu1, best_mse1, node)\n",
    "            node.right = Node(len(self.nodes)+1, samples_right, best_mu2, best_mse2, node)\n",
    "            node.j = best_j\n",
    "            node.t = best_t\n",
    "            self.nodes.append(node.left)\n",
    "            self.nodes.append(node.right)\n",
    "            self.nodes_to_split.append(len(self.nodes)-2)\n",
    "            self.nodes_to_split.append(len(self.nodes)-1)\n",
    "    \n",
    "    def predict(self, X):\n",
    "        preds = []\n",
    "        for i in range(X.shape[0]):\n",
    "            node = self.nodes[0]\n",
    "            while True:\n",
    "                if node.j is None:\n",
    "                    preds.append(node.prediction)\n",
    "                    break\n",
    "                if X[i, node.j] < node.t:\n",
    "                    node = node.left\n",
    "                else:\n",
    "                    node = node.right\n",
    "        return preds\n",
    "    \n",
    "    def save_tree_to_dot(self, filename):\n",
    "        def get_edge(x):\n",
    "            if x.j is None:\n",
    "                label = 'mse = ' + str(np.round(x.error,3)) + '\\n samples = ' + str(len(x.samples)) + '\\n value = ' + str(np.round(x.prediction,3))\n",
    "            else:\n",
    "                label = 'X[' + str(x.j) + '] < ' + str(np.round(x.t)) + '\\n mse = ' + str(np.round(x.error,3)) + '\\n samples = ' + str(len(x.samples)) + '\\n value = ' + str(np.round(x.prediction,3))\n",
    "            if x.father_node is None:\n",
    "                return str(x.id) + ' [ label=\"' + label + '\"] ;\\n'\n",
    "            else:\n",
    "                return str(x.id) + ' [ label=\"' + label + '\"] ;\\n' + str(x.father_node.id) + ' -> ' + str(x.id) + ' ;\\n' \n",
    "\n",
    "        f = open(filename, 'w')\n",
    "        f.write('digraph Tree {\\n node [shape = box] ;\\n graph [size=\"9.7,8.3!\"];\\n')\n",
    "        for x in self.nodes:\n",
    "            f.write(get_edge(x))\n",
    "        f.write('}')\n",
    "        f.close()\n",
    "        "
   ]
  },
  {
   "cell_type": "code",
   "execution_count": 19,
   "metadata": {
    "collapsed": false
   },
   "outputs": [],
   "source": [
    "tree = RegressionTree(X_train, y_train, max_depth=4, min_samples_leaf = 4)\n",
    "while len(tree.nodes_to_split)>0:\n",
    "    tree.split_next_node()\n",
    "tree.save_tree_to_dot('regression_tree_manual.dot')"
   ]
  },
  {
   "cell_type": "markdown",
   "metadata": {},
   "source": [
    "Check the error on the test set:"
   ]
  },
  {
   "cell_type": "code",
   "execution_count": 20,
   "metadata": {
    "collapsed": false
   },
   "outputs": [
    {
     "data": {
      "text/plain": [
       "0.07209792520517698"
      ]
     },
     "execution_count": 20,
     "metadata": {},
     "output_type": "execute_result"
    }
   ],
   "source": [
    "rmse(y_test, tree.predict(X_test))"
   ]
  },
  {
   "cell_type": "markdown",
   "metadata": {},
   "source": [
    "We can also draw the tree from the dot file (remember that we saved tree in the dot file already):"
   ]
  },
  {
   "cell_type": "code",
   "execution_count": 21,
   "metadata": {
    "collapsed": false
   },
   "outputs": [
    {
     "data": {
      "image/svg+xml": [
       "<?xml version=\"1.0\" encoding=\"UTF-8\" standalone=\"no\"?>\n",
       "<!DOCTYPE svg PUBLIC \"-//W3C//DTD SVG 1.1//EN\"\n",
       " \"http://www.w3.org/Graphics/SVG/1.1/DTD/svg11.dtd\">\n",
       "<!-- Generated by graphviz version 2.38.0 (20140413.2041)\n",
       " -->\n",
       "<!-- Title: Tree Pages: 1 -->\n",
       "<svg width=\"698pt\" height=\"283pt\"\n",
       " viewBox=\"0.00 0.00 698.00 283.44\" xmlns=\"http://www.w3.org/2000/svg\" xmlns:xlink=\"http://www.w3.org/1999/xlink\">\n",
       "<g id=\"graph0\" class=\"graph\" transform=\"scale(0.618873 0.618873) rotate(0) translate(4 454)\">\n",
       "<title>Tree</title>\n",
       "<polygon fill=\"white\" stroke=\"none\" points=\"-4,4 -4,-454 1123.86,-454 1123.86,4 -4,4\"/>\n",
       "<!-- 0 -->\n",
       "<g id=\"node1\" class=\"node\"><title>0</title>\n",
       "<polygon fill=\"none\" stroke=\"black\" points=\"672.75,-450 571.749,-450 571.749,-386 672.75,-386 672.75,-450\"/>\n",
       "<text text-anchor=\"middle\" x=\"622.25\" y=\"-434.8\" font-family=\"Times,serif\" font-size=\"14.00\">X[5] &lt; 7.0</text>\n",
       "<text text-anchor=\"middle\" x=\"622.25\" y=\"-420.8\" font-family=\"Times,serif\" font-size=\"14.00\"> mse = 0.035</text>\n",
       "<text text-anchor=\"middle\" x=\"622.25\" y=\"-406.8\" font-family=\"Times,serif\" font-size=\"14.00\"> samples = 339</text>\n",
       "<text text-anchor=\"middle\" x=\"622.25\" y=\"-392.8\" font-family=\"Times,serif\" font-size=\"14.00\"> value = 0.459</text>\n",
       "</g>\n",
       "<!-- 1 -->\n",
       "<g id=\"node2\" class=\"node\"><title>1</title>\n",
       "<polygon fill=\"none\" stroke=\"black\" points=\"501.75,-350 400.749,-350 400.749,-286 501.75,-286 501.75,-350\"/>\n",
       "<text text-anchor=\"middle\" x=\"451.25\" y=\"-334.8\" font-family=\"Times,serif\" font-size=\"14.00\">X[12] &lt; 14.0</text>\n",
       "<text text-anchor=\"middle\" x=\"451.25\" y=\"-320.8\" font-family=\"Times,serif\" font-size=\"14.00\"> mse = 0.016</text>\n",
       "<text text-anchor=\"middle\" x=\"451.25\" y=\"-306.8\" font-family=\"Times,serif\" font-size=\"14.00\"> samples = 271</text>\n",
       "<text text-anchor=\"middle\" x=\"451.25\" y=\"-292.8\" font-family=\"Times,serif\" font-size=\"14.00\"> value = 0.396</text>\n",
       "</g>\n",
       "<!-- 0&#45;&gt;1 -->\n",
       "<g id=\"edge1\" class=\"edge\"><title>0&#45;&gt;1</title>\n",
       "<path fill=\"none\" stroke=\"black\" d=\"M571.869,-388.127C552.56,-377.061 530.358,-364.337 510.309,-352.847\"/>\n",
       "<polygon fill=\"black\" stroke=\"black\" points=\"511.982,-349.772 501.565,-347.836 508.501,-355.845 511.982,-349.772\"/>\n",
       "</g>\n",
       "<!-- 2 -->\n",
       "<g id=\"node3\" class=\"node\"><title>2</title>\n",
       "<polygon fill=\"none\" stroke=\"black\" points=\"841.463,-350 745.036,-350 745.036,-286 841.463,-286 841.463,-350\"/>\n",
       "<text text-anchor=\"middle\" x=\"793.25\" y=\"-334.8\" font-family=\"Times,serif\" font-size=\"14.00\">X[5] &lt; 7.0</text>\n",
       "<text text-anchor=\"middle\" x=\"793.25\" y=\"-320.8\" font-family=\"Times,serif\" font-size=\"14.00\"> mse = 0.03</text>\n",
       "<text text-anchor=\"middle\" x=\"793.25\" y=\"-306.8\" font-family=\"Times,serif\" font-size=\"14.00\"> samples = 68</text>\n",
       "<text text-anchor=\"middle\" x=\"793.25\" y=\"-292.8\" font-family=\"Times,serif\" font-size=\"14.00\"> value = 0.713</text>\n",
       "</g>\n",
       "<!-- 0&#45;&gt;2 -->\n",
       "<g id=\"edge2\" class=\"edge\"><title>0&#45;&gt;2</title>\n",
       "<path fill=\"none\" stroke=\"black\" d=\"M672.63,-388.127C692.54,-376.717 715.525,-363.544 736.055,-351.778\"/>\n",
       "<polygon fill=\"black\" stroke=\"black\" points=\"738.055,-354.666 744.99,-346.657 734.574,-348.593 738.055,-354.666\"/>\n",
       "</g>\n",
       "<!-- 3 -->\n",
       "<g id=\"node4\" class=\"node\"><title>3</title>\n",
       "<polygon fill=\"none\" stroke=\"black\" points=\"216.75,-250 115.749,-250 115.749,-186 216.75,-186 216.75,-250\"/>\n",
       "<text text-anchor=\"middle\" x=\"166.25\" y=\"-234.8\" font-family=\"Times,serif\" font-size=\"14.00\">X[7] &lt; 1.0</text>\n",
       "<text text-anchor=\"middle\" x=\"166.25\" y=\"-220.8\" font-family=\"Times,serif\" font-size=\"14.00\"> mse = 0.011</text>\n",
       "<text text-anchor=\"middle\" x=\"166.25\" y=\"-206.8\" font-family=\"Times,serif\" font-size=\"14.00\"> samples = 159</text>\n",
       "<text text-anchor=\"middle\" x=\"166.25\" y=\"-192.8\" font-family=\"Times,serif\" font-size=\"14.00\"> value = 0.465</text>\n",
       "</g>\n",
       "<!-- 1&#45;&gt;3 -->\n",
       "<g id=\"edge3\" class=\"edge\"><title>1&#45;&gt;3</title>\n",
       "<path fill=\"none\" stroke=\"black\" d=\"M400.953,-299.705C352.163,-282.928 278.099,-257.461 226.256,-239.634\"/>\n",
       "<polygon fill=\"black\" stroke=\"black\" points=\"227.116,-236.228 216.521,-236.286 224.84,-242.848 227.116,-236.228\"/>\n",
       "</g>\n",
       "<!-- 4 -->\n",
       "<g id=\"node5\" class=\"node\"><title>4</title>\n",
       "<polygon fill=\"none\" stroke=\"black\" points=\"501.236,-250 401.263,-250 401.263,-186 501.236,-186 501.236,-250\"/>\n",
       "<text text-anchor=\"middle\" x=\"451.25\" y=\"-234.8\" font-family=\"Times,serif\" font-size=\"14.00\">X[0] &lt; 7.0</text>\n",
       "<text text-anchor=\"middle\" x=\"451.25\" y=\"-220.8\" font-family=\"Times,serif\" font-size=\"14.00\"> mse = 0.007</text>\n",
       "<text text-anchor=\"middle\" x=\"451.25\" y=\"-206.8\" font-family=\"Times,serif\" font-size=\"14.00\"> samples = 112</text>\n",
       "<text text-anchor=\"middle\" x=\"451.25\" y=\"-192.8\" font-family=\"Times,serif\" font-size=\"14.00\"> value = 0.297</text>\n",
       "</g>\n",
       "<!-- 1&#45;&gt;4 -->\n",
       "<g id=\"edge4\" class=\"edge\"><title>1&#45;&gt;4</title>\n",
       "<path fill=\"none\" stroke=\"black\" d=\"M451.25,-285.992C451.25,-277.859 451.25,-268.959 451.25,-260.378\"/>\n",
       "<polygon fill=\"black\" stroke=\"black\" points=\"454.75,-260.142 451.25,-250.142 447.75,-260.142 454.75,-260.142\"/>\n",
       "</g>\n",
       "<!-- 5 -->\n",
       "<g id=\"node6\" class=\"node\"><title>5</title>\n",
       "<polygon fill=\"none\" stroke=\"black\" points=\"840.25,-250 746.249,-250 746.249,-186 840.25,-186 840.25,-250\"/>\n",
       "<text text-anchor=\"middle\" x=\"793.25\" y=\"-234.8\" font-family=\"Times,serif\" font-size=\"14.00\">X[12] &lt; 11.0</text>\n",
       "<text text-anchor=\"middle\" x=\"793.25\" y=\"-220.8\" font-family=\"Times,serif\" font-size=\"14.00\"> mse = 0.015</text>\n",
       "<text text-anchor=\"middle\" x=\"793.25\" y=\"-206.8\" font-family=\"Times,serif\" font-size=\"14.00\"> samples = 46</text>\n",
       "<text text-anchor=\"middle\" x=\"793.25\" y=\"-192.8\" font-family=\"Times,serif\" font-size=\"14.00\"> value = 0.63</text>\n",
       "</g>\n",
       "<!-- 2&#45;&gt;5 -->\n",
       "<g id=\"edge5\" class=\"edge\"><title>2&#45;&gt;5</title>\n",
       "<path fill=\"none\" stroke=\"black\" d=\"M793.25,-285.992C793.25,-277.859 793.25,-268.959 793.25,-260.378\"/>\n",
       "<polygon fill=\"black\" stroke=\"black\" points=\"796.75,-260.142 793.25,-250.142 789.75,-260.142 796.75,-260.142\"/>\n",
       "</g>\n",
       "<!-- 6 -->\n",
       "<g id=\"node7\" class=\"node\"><title>6</title>\n",
       "<polygon fill=\"none\" stroke=\"black\" points=\"1012.46,-250 916.036,-250 916.036,-186 1012.46,-186 1012.46,-250\"/>\n",
       "<text text-anchor=\"middle\" x=\"964.25\" y=\"-234.8\" font-family=\"Times,serif\" font-size=\"14.00\">X[10] &lt; 18.0</text>\n",
       "<text text-anchor=\"middle\" x=\"964.25\" y=\"-220.8\" font-family=\"Times,serif\" font-size=\"14.00\"> mse = 0.017</text>\n",
       "<text text-anchor=\"middle\" x=\"964.25\" y=\"-206.8\" font-family=\"Times,serif\" font-size=\"14.00\"> samples = 22</text>\n",
       "<text text-anchor=\"middle\" x=\"964.25\" y=\"-192.8\" font-family=\"Times,serif\" font-size=\"14.00\"> value = 0.888</text>\n",
       "</g>\n",
       "<!-- 2&#45;&gt;6 -->\n",
       "<g id=\"edge6\" class=\"edge\"><title>2&#45;&gt;6</title>\n",
       "<path fill=\"none\" stroke=\"black\" d=\"M841.794,-289.179C862.097,-277.543 885.844,-263.934 906.993,-251.814\"/>\n",
       "<polygon fill=\"black\" stroke=\"black\" points=\"908.944,-254.73 915.88,-246.721 905.463,-248.656 908.944,-254.73\"/>\n",
       "</g>\n",
       "<!-- 7 -->\n",
       "<g id=\"node8\" class=\"node\"><title>7</title>\n",
       "<polygon fill=\"none\" stroke=\"black\" points=\"97.9627,-143 8.53637,-143 8.53637,-93 97.9627,-93 97.9627,-143\"/>\n",
       "<text text-anchor=\"middle\" x=\"53.2495\" y=\"-127.8\" font-family=\"Times,serif\" font-size=\"14.00\">mse = 0.037</text>\n",
       "<text text-anchor=\"middle\" x=\"53.2495\" y=\"-113.8\" font-family=\"Times,serif\" font-size=\"14.00\"> samples = 4</text>\n",
       "<text text-anchor=\"middle\" x=\"53.2495\" y=\"-99.8\" font-family=\"Times,serif\" font-size=\"14.00\"> value = 0.89</text>\n",
       "</g>\n",
       "<!-- 3&#45;&gt;7 -->\n",
       "<g id=\"edge7\" class=\"edge\"><title>3&#45;&gt;7</title>\n",
       "<path fill=\"none\" stroke=\"black\" d=\"M130.496,-185.992C117.199,-174.461 102.122,-161.385 88.8404,-149.866\"/>\n",
       "<polygon fill=\"black\" stroke=\"black\" points=\"91.1025,-147.195 81.2547,-143.288 86.5162,-152.484 91.1025,-147.195\"/>\n",
       "</g>\n",
       "<!-- 8 -->\n",
       "<g id=\"node9\" class=\"node\"><title>8</title>\n",
       "<polygon fill=\"none\" stroke=\"black\" points=\"216.75,-150 115.749,-150 115.749,-86 216.75,-86 216.75,-150\"/>\n",
       "<text text-anchor=\"middle\" x=\"166.25\" y=\"-134.8\" font-family=\"Times,serif\" font-size=\"14.00\">X[5] &lt; 7.0</text>\n",
       "<text text-anchor=\"middle\" x=\"166.25\" y=\"-120.8\" font-family=\"Times,serif\" font-size=\"14.00\"> mse = 0.005</text>\n",
       "<text text-anchor=\"middle\" x=\"166.25\" y=\"-106.8\" font-family=\"Times,serif\" font-size=\"14.00\"> samples = 155</text>\n",
       "<text text-anchor=\"middle\" x=\"166.25\" y=\"-92.8\" font-family=\"Times,serif\" font-size=\"14.00\"> value = 0.454</text>\n",
       "</g>\n",
       "<!-- 3&#45;&gt;8 -->\n",
       "<g id=\"edge8\" class=\"edge\"><title>3&#45;&gt;8</title>\n",
       "<path fill=\"none\" stroke=\"black\" d=\"M166.25,-185.992C166.25,-177.859 166.25,-168.959 166.25,-160.378\"/>\n",
       "<polygon fill=\"black\" stroke=\"black\" points=\"169.75,-160.142 166.25,-150.142 162.75,-160.142 169.75,-160.142\"/>\n",
       "</g>\n",
       "<!-- 9 -->\n",
       "<g id=\"node10\" class=\"node\"><title>9</title>\n",
       "<polygon fill=\"none\" stroke=\"black\" points=\"442.463,-150 346.036,-150 346.036,-86 442.463,-86 442.463,-150\"/>\n",
       "<text text-anchor=\"middle\" x=\"394.25\" y=\"-134.8\" font-family=\"Times,serif\" font-size=\"14.00\">X[6] &lt; 92.0</text>\n",
       "<text text-anchor=\"middle\" x=\"394.25\" y=\"-120.8\" font-family=\"Times,serif\" font-size=\"14.00\"> mse = 0.005</text>\n",
       "<text text-anchor=\"middle\" x=\"394.25\" y=\"-106.8\" font-family=\"Times,serif\" font-size=\"14.00\"> samples = 66</text>\n",
       "<text text-anchor=\"middle\" x=\"394.25\" y=\"-92.8\" font-family=\"Times,serif\" font-size=\"14.00\"> value = 0.342</text>\n",
       "</g>\n",
       "<!-- 4&#45;&gt;9 -->\n",
       "<g id=\"edge9\" class=\"edge\"><title>4&#45;&gt;9</title>\n",
       "<path fill=\"none\" stroke=\"black\" d=\"M433.214,-185.992C428.224,-177.413 422.737,-167.978 417.495,-158.966\"/>\n",
       "<polygon fill=\"black\" stroke=\"black\" points=\"420.416,-157.027 412.363,-150.142 414.365,-160.546 420.416,-157.027\"/>\n",
       "</g>\n",
       "<!-- 10 -->\n",
       "<g id=\"node11\" class=\"node\"><title>10</title>\n",
       "<polygon fill=\"none\" stroke=\"black\" points=\"556.463,-150 460.036,-150 460.036,-86 556.463,-86 556.463,-150\"/>\n",
       "<text text-anchor=\"middle\" x=\"508.25\" y=\"-134.8\" font-family=\"Times,serif\" font-size=\"14.00\">X[12] &lt; 20.0</text>\n",
       "<text text-anchor=\"middle\" x=\"508.25\" y=\"-120.8\" font-family=\"Times,serif\" font-size=\"14.00\"> mse = 0.004</text>\n",
       "<text text-anchor=\"middle\" x=\"508.25\" y=\"-106.8\" font-family=\"Times,serif\" font-size=\"14.00\"> samples = 46</text>\n",
       "<text text-anchor=\"middle\" x=\"508.25\" y=\"-92.8\" font-family=\"Times,serif\" font-size=\"14.00\"> value = 0.232</text>\n",
       "</g>\n",
       "<!-- 4&#45;&gt;10 -->\n",
       "<g id=\"edge10\" class=\"edge\"><title>4&#45;&gt;10</title>\n",
       "<path fill=\"none\" stroke=\"black\" d=\"M469.285,-185.992C474.275,-177.413 479.762,-167.978 485.004,-158.966\"/>\n",
       "<polygon fill=\"black\" stroke=\"black\" points=\"488.134,-160.546 490.136,-150.142 482.083,-157.027 488.134,-160.546\"/>\n",
       "</g>\n",
       "<!-- 11 -->\n",
       "<g id=\"node12\" class=\"node\"><title>11</title>\n",
       "<polygon fill=\"none\" stroke=\"black\" points=\"784.463,-150 688.036,-150 688.036,-86 784.463,-86 784.463,-150\"/>\n",
       "<text text-anchor=\"middle\" x=\"736.25\" y=\"-134.8\" font-family=\"Times,serif\" font-size=\"14.00\">X[7] &lt; 2.0</text>\n",
       "<text text-anchor=\"middle\" x=\"736.25\" y=\"-120.8\" font-family=\"Times,serif\" font-size=\"14.00\"> mse = 0.009</text>\n",
       "<text text-anchor=\"middle\" x=\"736.25\" y=\"-106.8\" font-family=\"Times,serif\" font-size=\"14.00\"> samples = 42</text>\n",
       "<text text-anchor=\"middle\" x=\"736.25\" y=\"-92.8\" font-family=\"Times,serif\" font-size=\"14.00\"> value = 0.651</text>\n",
       "</g>\n",
       "<!-- 5&#45;&gt;11 -->\n",
       "<g id=\"edge11\" class=\"edge\"><title>5&#45;&gt;11</title>\n",
       "<path fill=\"none\" stroke=\"black\" d=\"M775.214,-185.992C770.224,-177.413 764.737,-167.978 759.495,-158.966\"/>\n",
       "<polygon fill=\"black\" stroke=\"black\" points=\"762.416,-157.027 754.363,-150.142 756.365,-160.546 762.416,-157.027\"/>\n",
       "</g>\n",
       "<!-- 12 -->\n",
       "<g id=\"node13\" class=\"node\"><title>12</title>\n",
       "<polygon fill=\"none\" stroke=\"black\" points=\"898.463,-143 802.036,-143 802.036,-93 898.463,-93 898.463,-143\"/>\n",
       "<text text-anchor=\"middle\" x=\"850.25\" y=\"-127.8\" font-family=\"Times,serif\" font-size=\"14.00\">mse = 0.022</text>\n",
       "<text text-anchor=\"middle\" x=\"850.25\" y=\"-113.8\" font-family=\"Times,serif\" font-size=\"14.00\"> samples = 4</text>\n",
       "<text text-anchor=\"middle\" x=\"850.25\" y=\"-99.8\" font-family=\"Times,serif\" font-size=\"14.00\"> value = 0.404</text>\n",
       "</g>\n",
       "<!-- 5&#45;&gt;12 -->\n",
       "<g id=\"edge12\" class=\"edge\"><title>5&#45;&gt;12</title>\n",
       "<path fill=\"none\" stroke=\"black\" d=\"M811.285,-185.992C817.553,-175.215 824.606,-163.09 830.971,-152.146\"/>\n",
       "<polygon fill=\"black\" stroke=\"black\" points=\"834.121,-153.692 836.123,-143.288 828.07,-150.172 834.121,-153.692\"/>\n",
       "</g>\n",
       "<!-- 13 -->\n",
       "<g id=\"node14\" class=\"node\"><title>13</title>\n",
       "<polygon fill=\"none\" stroke=\"black\" points=\"1012.46,-150 916.036,-150 916.036,-86 1012.46,-86 1012.46,-150\"/>\n",
       "<text text-anchor=\"middle\" x=\"964.25\" y=\"-134.8\" font-family=\"Times,serif\" font-size=\"14.00\">X[0] &lt; 1.0</text>\n",
       "<text text-anchor=\"middle\" x=\"964.25\" y=\"-120.8\" font-family=\"Times,serif\" font-size=\"14.00\"> mse = 0.006</text>\n",
       "<text text-anchor=\"middle\" x=\"964.25\" y=\"-106.8\" font-family=\"Times,serif\" font-size=\"14.00\"> samples = 17</text>\n",
       "<text text-anchor=\"middle\" x=\"964.25\" y=\"-92.8\" font-family=\"Times,serif\" font-size=\"14.00\"> value = 0.935</text>\n",
       "</g>\n",
       "<!-- 6&#45;&gt;13 -->\n",
       "<g id=\"edge13\" class=\"edge\"><title>6&#45;&gt;13</title>\n",
       "<path fill=\"none\" stroke=\"black\" d=\"M964.25,-185.992C964.25,-177.859 964.25,-168.959 964.25,-160.378\"/>\n",
       "<polygon fill=\"black\" stroke=\"black\" points=\"967.75,-160.142 964.25,-150.142 960.75,-160.142 967.75,-160.142\"/>\n",
       "</g>\n",
       "<!-- 14 -->\n",
       "<g id=\"node15\" class=\"node\"><title>14</title>\n",
       "<polygon fill=\"none\" stroke=\"black\" points=\"1119.96,-143 1030.54,-143 1030.54,-93 1119.96,-93 1119.96,-143\"/>\n",
       "<text text-anchor=\"middle\" x=\"1075.25\" y=\"-127.8\" font-family=\"Times,serif\" font-size=\"14.00\">mse = 0.025</text>\n",
       "<text text-anchor=\"middle\" x=\"1075.25\" y=\"-113.8\" font-family=\"Times,serif\" font-size=\"14.00\"> samples = 5</text>\n",
       "<text text-anchor=\"middle\" x=\"1075.25\" y=\"-99.8\" font-family=\"Times,serif\" font-size=\"14.00\"> value = 0.73</text>\n",
       "</g>\n",
       "<!-- 6&#45;&gt;14 -->\n",
       "<g id=\"edge14\" class=\"edge\"><title>6&#45;&gt;14</title>\n",
       "<path fill=\"none\" stroke=\"black\" d=\"M999.371,-185.992C1012.31,-174.568 1026.96,-161.63 1039.92,-150.19\"/>\n",
       "<polygon fill=\"black\" stroke=\"black\" points=\"1042.56,-152.53 1047.74,-143.288 1037.93,-147.282 1042.56,-152.53\"/>\n",
       "</g>\n",
       "<!-- 15 -->\n",
       "<g id=\"node16\" class=\"node\"><title>15</title>\n",
       "<polygon fill=\"none\" stroke=\"black\" points=\"100.75,-50 -0.250757,-50 -0.250757,-0 100.75,-0 100.75,-50\"/>\n",
       "<text text-anchor=\"middle\" x=\"50.2495\" y=\"-34.8\" font-family=\"Times,serif\" font-size=\"14.00\">mse = 0.003</text>\n",
       "<text text-anchor=\"middle\" x=\"50.2495\" y=\"-20.8\" font-family=\"Times,serif\" font-size=\"14.00\"> samples = 124</text>\n",
       "<text text-anchor=\"middle\" x=\"50.2495\" y=\"-6.8\" font-family=\"Times,serif\" font-size=\"14.00\"> value = 0.431</text>\n",
       "</g>\n",
       "<!-- 8&#45;&gt;15 -->\n",
       "<g id=\"edge15\" class=\"edge\"><title>8&#45;&gt;15</title>\n",
       "<path fill=\"none\" stroke=\"black\" d=\"M126.653,-85.9375C114.495,-76.3993 101.132,-65.9167 89.0291,-56.4219\"/>\n",
       "<polygon fill=\"black\" stroke=\"black\" points=\"90.9095,-53.4486 80.8813,-50.0301 86.5889,-58.9561 90.9095,-53.4486\"/>\n",
       "</g>\n",
       "<!-- 16 -->\n",
       "<g id=\"node17\" class=\"node\"><title>16</title>\n",
       "<polygon fill=\"none\" stroke=\"black\" points=\"214.463,-50 118.036,-50 118.036,-0 214.463,-0 214.463,-50\"/>\n",
       "<text text-anchor=\"middle\" x=\"166.25\" y=\"-34.8\" font-family=\"Times,serif\" font-size=\"14.00\">mse = 0.005</text>\n",
       "<text text-anchor=\"middle\" x=\"166.25\" y=\"-20.8\" font-family=\"Times,serif\" font-size=\"14.00\"> samples = 31</text>\n",
       "<text text-anchor=\"middle\" x=\"166.25\" y=\"-6.8\" font-family=\"Times,serif\" font-size=\"14.00\"> value = 0.547</text>\n",
       "</g>\n",
       "<!-- 8&#45;&gt;16 -->\n",
       "<g id=\"edge16\" class=\"edge\"><title>8&#45;&gt;16</title>\n",
       "<path fill=\"none\" stroke=\"black\" d=\"M166.25,-85.9375C166.25,-77.6833 166.25,-68.7219 166.25,-60.3053\"/>\n",
       "<polygon fill=\"black\" stroke=\"black\" points=\"169.75,-60.03 166.25,-50.0301 162.75,-60.0301 169.75,-60.03\"/>\n",
       "</g>\n",
       "<!-- 17 -->\n",
       "<g id=\"node18\" class=\"node\"><title>17</title>\n",
       "<polygon fill=\"none\" stroke=\"black\" points=\"328.463,-50 232.036,-50 232.036,-0 328.463,-0 328.463,-50\"/>\n",
       "<text text-anchor=\"middle\" x=\"280.25\" y=\"-34.8\" font-family=\"Times,serif\" font-size=\"14.00\">mse = 0.003</text>\n",
       "<text text-anchor=\"middle\" x=\"280.25\" y=\"-20.8\" font-family=\"Times,serif\" font-size=\"14.00\"> samples = 27</text>\n",
       "<text text-anchor=\"middle\" x=\"280.25\" y=\"-6.8\" font-family=\"Times,serif\" font-size=\"14.00\"> value = 0.386</text>\n",
       "</g>\n",
       "<!-- 9&#45;&gt;17 -->\n",
       "<g id=\"edge17\" class=\"edge\"><title>9&#45;&gt;17</title>\n",
       "<path fill=\"none\" stroke=\"black\" d=\"M355.336,-85.9375C343.387,-76.3993 330.255,-65.9167 318.36,-56.4219\"/>\n",
       "<polygon fill=\"black\" stroke=\"black\" points=\"320.352,-53.5333 310.353,-50.0301 315.985,-59.0041 320.352,-53.5333\"/>\n",
       "</g>\n",
       "<!-- 18 -->\n",
       "<g id=\"node19\" class=\"node\"><title>18</title>\n",
       "<polygon fill=\"none\" stroke=\"black\" points=\"442.463,-50 346.036,-50 346.036,-0 442.463,-0 442.463,-50\"/>\n",
       "<text text-anchor=\"middle\" x=\"394.25\" y=\"-34.8\" font-family=\"Times,serif\" font-size=\"14.00\">mse = 0.004</text>\n",
       "<text text-anchor=\"middle\" x=\"394.25\" y=\"-20.8\" font-family=\"Times,serif\" font-size=\"14.00\"> samples = 39</text>\n",
       "<text text-anchor=\"middle\" x=\"394.25\" y=\"-6.8\" font-family=\"Times,serif\" font-size=\"14.00\"> value = 0.312</text>\n",
       "</g>\n",
       "<!-- 9&#45;&gt;18 -->\n",
       "<g id=\"edge18\" class=\"edge\"><title>9&#45;&gt;18</title>\n",
       "<path fill=\"none\" stroke=\"black\" d=\"M394.25,-85.9375C394.25,-77.6833 394.25,-68.7219 394.25,-60.3053\"/>\n",
       "<polygon fill=\"black\" stroke=\"black\" points=\"397.75,-60.03 394.25,-50.0301 390.75,-60.0301 397.75,-60.03\"/>\n",
       "</g>\n",
       "<!-- 19 -->\n",
       "<g id=\"node20\" class=\"node\"><title>19</title>\n",
       "<polygon fill=\"none\" stroke=\"black\" points=\"556.463,-50 460.036,-50 460.036,-0 556.463,-0 556.463,-50\"/>\n",
       "<text text-anchor=\"middle\" x=\"508.25\" y=\"-34.8\" font-family=\"Times,serif\" font-size=\"14.00\">mse = 0.002</text>\n",
       "<text text-anchor=\"middle\" x=\"508.25\" y=\"-20.8\" font-family=\"Times,serif\" font-size=\"14.00\"> samples = 15</text>\n",
       "<text text-anchor=\"middle\" x=\"508.25\" y=\"-6.8\" font-family=\"Times,serif\" font-size=\"14.00\"> value = 0.285</text>\n",
       "</g>\n",
       "<!-- 10&#45;&gt;19 -->\n",
       "<g id=\"edge19\" class=\"edge\"><title>10&#45;&gt;19</title>\n",
       "<path fill=\"none\" stroke=\"black\" d=\"M508.25,-85.9375C508.25,-77.6833 508.25,-68.7219 508.25,-60.3053\"/>\n",
       "<polygon fill=\"black\" stroke=\"black\" points=\"511.75,-60.03 508.25,-50.0301 504.75,-60.0301 511.75,-60.03\"/>\n",
       "</g>\n",
       "<!-- 20 -->\n",
       "<g id=\"node21\" class=\"node\"><title>20</title>\n",
       "<polygon fill=\"none\" stroke=\"black\" points=\"670.463,-50 574.036,-50 574.036,-0 670.463,-0 670.463,-50\"/>\n",
       "<text text-anchor=\"middle\" x=\"622.25\" y=\"-34.8\" font-family=\"Times,serif\" font-size=\"14.00\">mse = 0.003</text>\n",
       "<text text-anchor=\"middle\" x=\"622.25\" y=\"-20.8\" font-family=\"Times,serif\" font-size=\"14.00\"> samples = 31</text>\n",
       "<text text-anchor=\"middle\" x=\"622.25\" y=\"-6.8\" font-family=\"Times,serif\" font-size=\"14.00\"> value = 0.207</text>\n",
       "</g>\n",
       "<!-- 10&#45;&gt;20 -->\n",
       "<g id=\"edge20\" class=\"edge\"><title>10&#45;&gt;20</title>\n",
       "<path fill=\"none\" stroke=\"black\" d=\"M547.163,-85.9375C559.112,-76.3993 572.244,-65.9167 584.139,-56.4219\"/>\n",
       "<polygon fill=\"black\" stroke=\"black\" points=\"586.514,-59.0041 592.146,-50.0301 582.147,-53.5333 586.514,-59.0041\"/>\n",
       "</g>\n",
       "<!-- 21 -->\n",
       "<g id=\"node22\" class=\"node\"><title>21</title>\n",
       "<polygon fill=\"none\" stroke=\"black\" points=\"784.463,-50 688.036,-50 688.036,-0 784.463,-0 784.463,-50\"/>\n",
       "<text text-anchor=\"middle\" x=\"736.25\" y=\"-34.8\" font-family=\"Times,serif\" font-size=\"14.00\">mse = 0.013</text>\n",
       "<text text-anchor=\"middle\" x=\"736.25\" y=\"-20.8\" font-family=\"Times,serif\" font-size=\"14.00\"> samples = 4</text>\n",
       "<text text-anchor=\"middle\" x=\"736.25\" y=\"-6.8\" font-family=\"Times,serif\" font-size=\"14.00\"> value = 0.819</text>\n",
       "</g>\n",
       "<!-- 11&#45;&gt;21 -->\n",
       "<g id=\"edge21\" class=\"edge\"><title>11&#45;&gt;21</title>\n",
       "<path fill=\"none\" stroke=\"black\" d=\"M736.25,-85.9375C736.25,-77.6833 736.25,-68.7219 736.25,-60.3053\"/>\n",
       "<polygon fill=\"black\" stroke=\"black\" points=\"739.75,-60.03 736.25,-50.0301 732.75,-60.0301 739.75,-60.03\"/>\n",
       "</g>\n",
       "<!-- 22 -->\n",
       "<g id=\"node23\" class=\"node\"><title>22</title>\n",
       "<polygon fill=\"none\" stroke=\"black\" points=\"898.463,-50 802.036,-50 802.036,-0 898.463,-0 898.463,-50\"/>\n",
       "<text text-anchor=\"middle\" x=\"850.25\" y=\"-34.8\" font-family=\"Times,serif\" font-size=\"14.00\">mse = 0.006</text>\n",
       "<text text-anchor=\"middle\" x=\"850.25\" y=\"-20.8\" font-family=\"Times,serif\" font-size=\"14.00\"> samples = 38</text>\n",
       "<text text-anchor=\"middle\" x=\"850.25\" y=\"-6.8\" font-family=\"Times,serif\" font-size=\"14.00\"> value = 0.633</text>\n",
       "</g>\n",
       "<!-- 11&#45;&gt;22 -->\n",
       "<g id=\"edge22\" class=\"edge\"><title>11&#45;&gt;22</title>\n",
       "<path fill=\"none\" stroke=\"black\" d=\"M775.163,-85.9375C787.112,-76.3993 800.244,-65.9167 812.139,-56.4219\"/>\n",
       "<polygon fill=\"black\" stroke=\"black\" points=\"814.514,-59.0041 820.146,-50.0301 810.147,-53.5333 814.514,-59.0041\"/>\n",
       "</g>\n",
       "<!-- 23 -->\n",
       "<g id=\"node24\" class=\"node\"><title>23</title>\n",
       "<polygon fill=\"none\" stroke=\"black\" points=\"1012.46,-50 916.036,-50 916.036,-0 1012.46,-0 1012.46,-50\"/>\n",
       "<text text-anchor=\"middle\" x=\"964.25\" y=\"-34.8\" font-family=\"Times,serif\" font-size=\"14.00\">mse = 0.005</text>\n",
       "<text text-anchor=\"middle\" x=\"964.25\" y=\"-20.8\" font-family=\"Times,serif\" font-size=\"14.00\"> samples = 11</text>\n",
       "<text text-anchor=\"middle\" x=\"964.25\" y=\"-6.8\" font-family=\"Times,serif\" font-size=\"14.00\"> value = 0.899</text>\n",
       "</g>\n",
       "<!-- 13&#45;&gt;23 -->\n",
       "<g id=\"edge23\" class=\"edge\"><title>13&#45;&gt;23</title>\n",
       "<path fill=\"none\" stroke=\"black\" d=\"M964.25,-85.9375C964.25,-77.6833 964.25,-68.7219 964.25,-60.3053\"/>\n",
       "<polygon fill=\"black\" stroke=\"black\" points=\"967.75,-60.03 964.25,-50.0301 960.75,-60.0301 967.75,-60.03\"/>\n",
       "</g>\n",
       "<!-- 24 -->\n",
       "<g id=\"node25\" class=\"node\"><title>24</title>\n",
       "<polygon fill=\"none\" stroke=\"black\" points=\"1116.75,-50 1029.75,-50 1029.75,-0 1116.75,-0 1116.75,-50\"/>\n",
       "<text text-anchor=\"middle\" x=\"1073.25\" y=\"-34.8\" font-family=\"Times,serif\" font-size=\"14.00\">mse = 0.0</text>\n",
       "<text text-anchor=\"middle\" x=\"1073.25\" y=\"-20.8\" font-family=\"Times,serif\" font-size=\"14.00\"> samples = 6</text>\n",
       "<text text-anchor=\"middle\" x=\"1073.25\" y=\"-6.8\" font-family=\"Times,serif\" font-size=\"14.00\"> value = 1.0</text>\n",
       "</g>\n",
       "<!-- 13&#45;&gt;24 -->\n",
       "<g id=\"edge24\" class=\"edge\"><title>13&#45;&gt;24</title>\n",
       "<path fill=\"none\" stroke=\"black\" d=\"M1001.46,-85.9375C1012.77,-76.491 1025.2,-66.1182 1036.48,-56.6961\"/>\n",
       "<polygon fill=\"black\" stroke=\"black\" points=\"1039.03,-59.1256 1044.47,-50.0301 1034.55,-53.7521 1039.03,-59.1256\"/>\n",
       "</g>\n",
       "</g>\n",
       "</svg>\n"
      ],
      "text/plain": [
       "<graphviz.files.Source at 0x11059c6d0>"
      ]
     },
     "execution_count": 21,
     "metadata": {},
     "output_type": "execute_result"
    }
   ],
   "source": [
    "dot = Source(open('regression_tree_manual.dot').read())\n",
    "dot"
   ]
  },
  {
   "cell_type": "markdown",
   "metadata": {},
   "source": [
    "## Classification decision tree"
   ]
  },
  {
   "cell_type": "code",
   "execution_count": 22,
   "metadata": {
    "collapsed": false
   },
   "outputs": [
    {
     "data": {
      "image/png": "[encoded data removed]",
      "text/plain": [
       "<matplotlib.figure.Figure at 0x110377cd0>"
      ]
     },
     "metadata": {},
     "output_type": "display_data"
    }
   ],
   "source": [
    "np.random.seed(0)\n",
    "X, y = ds.make_moons(200, noise=0.20)\n",
    "plt.scatter(X[:,0], X[:,1], s=40, c=y, cmap=cm.bwr)\n",
    "X_train, X_test, y_train, y_test = train_test_split(X, y, test_size=0.33, random_state=42)"
   ]
  },
  {
   "cell_type": "markdown",
   "metadata": {},
   "source": [
    "We will use the function plot\\_decision\\_boundary() to see the result of our classifiction:"
   ]
  },
  {
   "cell_type": "code",
   "execution_count": 23,
   "metadata": {
    "collapsed": true
   },
   "outputs": [],
   "source": [
    "def plot_decision_boundary(model, xmin=-0.1, xmax=1.1, ymin=-0.1, ymax=1.1):\n",
    "    fig = plt.figure(figsize=(6,6))\n",
    "    x1, x2 = np.meshgrid(np.linspace(xmin, xmax, 500),\n",
    "                         np.linspace(ymin, ymax, 500))\n",
    "    ypred = model.predict(np.c_[x1.ravel(), x2.ravel()])\n",
    "    ypred = ypred.reshape(x1.shape)\n",
    "    extent = xmin, xmax, ymin, ymax\n",
    "    \n",
    "    #plt.imshow(ypred, cmap=cm.bwr, alpha=.9, interpolation='bilinear', extent = extent, origin='lower')\n",
    "    plt.imshow(ypred, cmap=cm.bwr, alpha=.9, interpolation='bilinear', extent = extent, origin='lower')\n",
    "    plt.scatter(X[:,0], X[:,1], s=40, c=y, cmap=cm.bwr)"
   ]
  },
  {
   "cell_type": "markdown",
   "metadata": {},
   "source": [
    "Scikit-learn has its own implementation of classification decision trees:"
   ]
  },
  {
   "cell_type": "code",
   "execution_count": 24,
   "metadata": {
    "collapsed": true
   },
   "outputs": [],
   "source": [
    "from sklearn.tree import DecisionTreeClassifier"
   ]
  },
  {
   "cell_type": "code",
   "execution_count": 25,
   "metadata": {
    "collapsed": true
   },
   "outputs": [],
   "source": [
    "clf = DecisionTreeClassifier(max_depth=10, min_samples_leaf=4)\n",
    "clf = clf.fit(X_train, y_train)"
   ]
  },
  {
   "cell_type": "code",
   "execution_count": 26,
   "metadata": {
    "collapsed": false
   },
   "outputs": [
    {
     "data": {
      "image/png": "[encoded data removed]",
      "text/plain": [
       "<matplotlib.figure.Figure at 0x105be8390>"
      ]
     },
     "metadata": {},
     "output_type": "display_data"
    }
   ],
   "source": [
    "plot_decision_boundary(clf, xmin=-2.0, xmax=2.5, ymin=-1.5, ymax=1.5)"
   ]
  },
  {
   "cell_type": "markdown",
   "metadata": {},
   "source": [
    "The main difference between regression and classification decision trees is the metrics used to estimate the quality of split. In regression decision tree we used a mean squared error, in classification decision tree we will use Gini index, cross-entropy or misclassification rate:"
   ]
  },
  {
   "cell_type": "code",
   "execution_count": 35,
   "metadata": {
    "collapsed": true
   },
   "outputs": [],
   "source": [
    "class ClassificationTree():\n",
    "    def __init__(self, X, y, error_type='gini', max_depth=5, min_samples_leaf = 1):\n",
    "        self.X = X\n",
    "        self.y = y\n",
    "        self.error_type = error_type        \n",
    "        self.max_depth = max_depth\n",
    "        self.min_samples_leaf = min_samples_leaf\n",
    "        self.nodes = []\n",
    "        mu, err = self.error(y)\n",
    "        self.nodes.append(Node(0, [x for x in range(X.shape[0])], mu, err))\n",
    "        self.nodes_to_split = [0]\n",
    "    \n",
    "    def error(self, y):\n",
    "        p = np.mean(y)\n",
    "        if self.error_type == 'entropy':\n",
    "            p = np.clip(p, 0.01, 0.99)\n",
    "            return p, -1.0*p*np.log(p)-(1-p)*np.log(1-p)\n",
    "        elif self.error_type == 'gini':\n",
    "            return p, 2.0*p*(1.0-p)\n",
    "        elif self.error_type == 'misclass':\n",
    "            return p, min(p, 1-p)\n",
    "    \n",
    "    def split_next_node(self):\n",
    "        if len(self.nodes_to_split) == 0:\n",
    "            return\n",
    "        node = self.nodes[self.nodes_to_split[0]]\n",
    "        del self.nodes_to_split[0]\n",
    "        if (node.depth >= self.max_depth or len(node.samples)<=2*self.min_samples_leaf-1 or node.error == 0.0):\n",
    "            node.left = None\n",
    "            node.right = None\n",
    "            return\n",
    "        best_j = -999\n",
    "        best_t = -999\n",
    "        best_weighted_err1 = node.error*len(node.samples)\n",
    "        best_weighted_err2 = node.error*len(node.samples)\n",
    "        best_mu1 = -999\n",
    "        best_mu2 = -999\n",
    "        for j in range(self.X.shape[1]):\n",
    "            Xj = self.X[node.samples,j]\n",
    "            #for t in sorted(np.unique(Xj))[self.min_samples_leaf:(-self.min_samples_leaf)]:\n",
    "            Xj_min = np.min(Xj)\n",
    "            Xj_max = np.max(Xj)\n",
    "            for t in np.linspace(Xj_min, Xj_max, 300):\n",
    "                y_left = self.y[node.samples][Xj<t]\n",
    "                y_right = self.y[node.samples][Xj>=t]\n",
    "                if (len(y_left)<self.min_samples_leaf or len(y_right)<self.min_samples_leaf):\n",
    "                    continue\n",
    "                mu1, err1 = self.error(y_left)\n",
    "                mu2, err2 = self.error(y_right)\n",
    "                weighted_err1 = err1*len(y_left)\n",
    "                weighted_err2 = err2*len(y_right)\n",
    "                if (weighted_err1 + weighted_err2) < (best_weighted_err1 + best_weighted_err2):\n",
    "                    best_j = j\n",
    "                    best_t = t\n",
    "                    samples_left = node.samples[Xj<t]\n",
    "                    samples_right = node.samples[Xj>=t]\n",
    "                    best_mu1 = mu1\n",
    "                    best_mu2 = mu2\n",
    "                    best_err1 = err1\n",
    "                    best_err2 = err2\n",
    "                    best_weighted_err1 = weighted_err1\n",
    "                    best_weighted_err2 = weighted_err2\n",
    "        if best_j == -999:\n",
    "            node.left = None\n",
    "            node.right = None\n",
    "        else:\n",
    "            node.left = Node(len(self.nodes), samples_left, best_mu1, best_err1, node)\n",
    "            node.right = Node(len(self.nodes)+1, samples_right, best_mu2, best_err2, node)\n",
    "            node.j = best_j\n",
    "            node.t = best_t\n",
    "            self.nodes.append(node.left)\n",
    "            self.nodes.append(node.right)\n",
    "            self.nodes_to_split.append(len(self.nodes)-2)\n",
    "            self.nodes_to_split.append(len(self.nodes)-1)\n",
    "    \n",
    "    def predict(self, X, probability = False):\n",
    "        preds = []\n",
    "        for i in range(X.shape[0]):\n",
    "            node = self.nodes[0]\n",
    "            while True:\n",
    "                if node.j is None:\n",
    "                    preds.append(node.prediction)\n",
    "                    break\n",
    "                if X[i, node.j] < node.t:\n",
    "                    node = node.left\n",
    "                else:\n",
    "                    node = node.right\n",
    "        if probability == False:\n",
    "            preds = np.round(preds)\n",
    "        return np.array(preds)\n",
    "\n",
    "    def save_tree_to_dot(self, filename):\n",
    "        def get_edge(x):\n",
    "            if x.j is None:\n",
    "                label = 'error = ' + str(np.round(x.error,3)) + '\\n samples = ' + str(len(x.samples)) + '\\n prob = ' + str(np.round(x.prediction,3))\n",
    "                if x.prediction > 0.5:\n",
    "                    color = 'red'\n",
    "                else:\n",
    "                    color = 'blue'\n",
    "            else:\n",
    "                label = 'X[' + str(x.j) + '] < ' + str(np.round(x.t, 3)) + '\\n error = ' + str(np.round(x.error,3)) + '\\n samples = ' + str(len(x.samples)) + '\\n prob = ' + str(np.round(x.prediction,3))\n",
    "                color = 'white'\n",
    "            if x.father_node is None:\n",
    "                return str(x.id) + ' [ style=filled fillcolor=' + color + ' label=\"' + label + '\"] ;\\n'\n",
    "            else:\n",
    "                return str(x.id) + ' [ style=filled fillcolor=' + color + ' label=\"' + label + '\"] ;\\n' + str(x.father_node.id) + ' -> ' + str(x.id) + ' ;\\n' \n",
    "\n",
    "        f = open(filename, 'w')\n",
    "        f.write('digraph Tree {\\n node [shape = box] ;\\n')\n",
    "        for x in tree.nodes:\n",
    "            f.write(get_edge(x))\n",
    "        f.write('}')\n",
    "        f.close()"
   ]
  },
  {
   "cell_type": "code",
   "execution_count": 45,
   "metadata": {
    "collapsed": false
   },
   "outputs": [],
   "source": [
    "tree = ClassificationTree(X_train, y_train, error_type='gini', max_depth=10, min_samples_leaf = 4)\n",
    "while len(tree.nodes_to_split)>0:\n",
    "    tree.split_next_node()\n",
    "tree.save_tree_to_dot('classification_tree_manual.dot')"
   ]
  },
  {
   "cell_type": "code",
   "execution_count": 46,
   "metadata": {
    "collapsed": false
   },
   "outputs": [
    {
     "data": {
      "image/svg+xml": [
       "<?xml version=\"1.0\" encoding=\"UTF-8\" standalone=\"no\"?>\n",
       "<!DOCTYPE svg PUBLIC \"-//W3C//DTD SVG 1.1//EN\"\n",
       " \"http://www.w3.org/Graphics/SVG/1.1/DTD/svg11.dtd\">\n",
       "<!-- Generated by graphviz version 2.38.0 (20140413.2041)\n",
       " -->\n",
       "<!-- Title: Tree Pages: 1 -->\n",
       "<svg width=\"513pt\" height=\"658pt\"\n",
       " viewBox=\"0.00 0.00 513.50 658.00\" xmlns=\"http://www.w3.org/2000/svg\" xmlns:xlink=\"http://www.w3.org/1999/xlink\">\n",
       "<g id=\"graph0\" class=\"graph\" transform=\"scale(1 1) rotate(0) translate(4 654)\">\n",
       "<title>Tree</title>\n",
       "<polygon fill=\"white\" stroke=\"none\" points=\"-4,4 -4,-654 509.499,-654 509.499,4 -4,4\"/>\n",
       "<!-- 0 -->\n",
       "<g id=\"node1\" class=\"node\"><title>0</title>\n",
       "<polygon fill=\"white\" stroke=\"black\" points=\"262.25,-650 161.249,-650 161.249,-586 262.25,-586 262.25,-650\"/>\n",
       "<text text-anchor=\"middle\" x=\"211.75\" y=\"-634.8\" font-family=\"Times,serif\" font-size=\"14.00\">X[1] &lt; 0.285</text>\n",
       "<text text-anchor=\"middle\" x=\"211.75\" y=\"-620.8\" font-family=\"Times,serif\" font-size=\"14.00\"> error = 0.497</text>\n",
       "<text text-anchor=\"middle\" x=\"211.75\" y=\"-606.8\" font-family=\"Times,serif\" font-size=\"14.00\"> samples = 134</text>\n",
       "<text text-anchor=\"middle\" x=\"211.75\" y=\"-592.8\" font-family=\"Times,serif\" font-size=\"14.00\"> prob = 0.537</text>\n",
       "</g>\n",
       "<!-- 1 -->\n",
       "<g id=\"node2\" class=\"node\"><title>1</title>\n",
       "<polygon fill=\"white\" stroke=\"black\" points=\"203.75,-550 109.749,-550 109.749,-486 203.75,-486 203.75,-550\"/>\n",
       "<text text-anchor=\"middle\" x=\"156.75\" y=\"-534.8\" font-family=\"Times,serif\" font-size=\"14.00\">X[0] &lt; &#45;0.622</text>\n",
       "<text text-anchor=\"middle\" x=\"156.75\" y=\"-520.8\" font-family=\"Times,serif\" font-size=\"14.00\"> error = 0.224</text>\n",
       "<text text-anchor=\"middle\" x=\"156.75\" y=\"-506.8\" font-family=\"Times,serif\" font-size=\"14.00\"> samples = 70</text>\n",
       "<text text-anchor=\"middle\" x=\"156.75\" y=\"-492.8\" font-family=\"Times,serif\" font-size=\"14.00\"> prob = 0.871</text>\n",
       "</g>\n",
       "<!-- 0&#45;&gt;1 -->\n",
       "<g id=\"edge1\" class=\"edge\"><title>0&#45;&gt;1</title>\n",
       "<path fill=\"none\" stroke=\"black\" d=\"M194.347,-585.992C189.532,-577.413 184.237,-567.978 179.18,-558.966\"/>\n",
       "<polygon fill=\"black\" stroke=\"black\" points=\"182.174,-557.15 174.227,-550.142 176.069,-560.576 182.174,-557.15\"/>\n",
       "</g>\n",
       "<!-- 2 -->\n",
       "<g id=\"node3\" class=\"node\"><title>2</title>\n",
       "<polygon fill=\"white\" stroke=\"black\" points=\"314.75,-550 220.749,-550 220.749,-486 314.75,-486 314.75,-550\"/>\n",
       "<text text-anchor=\"middle\" x=\"267.75\" y=\"-534.8\" font-family=\"Times,serif\" font-size=\"14.00\">X[0] &lt; 1.133</text>\n",
       "<text text-anchor=\"middle\" x=\"267.75\" y=\"-520.8\" font-family=\"Times,serif\" font-size=\"14.00\"> error = 0.285</text>\n",
       "<text text-anchor=\"middle\" x=\"267.75\" y=\"-506.8\" font-family=\"Times,serif\" font-size=\"14.00\"> samples = 64</text>\n",
       "<text text-anchor=\"middle\" x=\"267.75\" y=\"-492.8\" font-family=\"Times,serif\" font-size=\"14.00\"> prob = 0.172</text>\n",
       "</g>\n",
       "<!-- 0&#45;&gt;2 -->\n",
       "<g id=\"edge2\" class=\"edge\"><title>0&#45;&gt;2</title>\n",
       "<path fill=\"none\" stroke=\"black\" d=\"M229.468,-585.992C234.371,-577.413 239.762,-567.978 244.912,-558.966\"/>\n",
       "<polygon fill=\"black\" stroke=\"black\" points=\"248.031,-560.561 249.954,-550.142 241.954,-557.088 248.031,-560.561\"/>\n",
       "</g>\n",
       "<!-- 3 -->\n",
       "<g id=\"node4\" class=\"node\"><title>3</title>\n",
       "<polygon fill=\"blue\" stroke=\"black\" points=\"92.25,-443 5.24904,-443 5.24904,-393 92.25,-393 92.25,-443\"/>\n",
       "<text text-anchor=\"middle\" x=\"48.7495\" y=\"-427.8\" font-family=\"Times,serif\" font-size=\"14.00\">error = 0.0</text>\n",
       "<text text-anchor=\"middle\" x=\"48.7495\" y=\"-413.8\" font-family=\"Times,serif\" font-size=\"14.00\"> samples = 4</text>\n",
       "<text text-anchor=\"middle\" x=\"48.7495\" y=\"-399.8\" font-family=\"Times,serif\" font-size=\"14.00\"> prob = 0.0</text>\n",
       "</g>\n",
       "<!-- 1&#45;&gt;3 -->\n",
       "<g id=\"edge3\" class=\"edge\"><title>1&#45;&gt;3</title>\n",
       "<path fill=\"none\" stroke=\"black\" d=\"M122.578,-485.992C109.988,-474.568 95.729,-461.63 83.122,-450.19\"/>\n",
       "<polygon fill=\"black\" stroke=\"black\" points=\"85.2731,-447.416 75.5155,-443.288 80.5692,-452.6 85.2731,-447.416\"/>\n",
       "</g>\n",
       "<!-- 4 -->\n",
       "<g id=\"node5\" class=\"node\"><title>4</title>\n",
       "<polygon fill=\"white\" stroke=\"black\" points=\"203.75,-450 109.749,-450 109.749,-386 203.75,-386 203.75,-450\"/>\n",
       "<text text-anchor=\"middle\" x=\"156.75\" y=\"-434.8\" font-family=\"Times,serif\" font-size=\"14.00\">X[1] &lt; &#45;0.109</text>\n",
       "<text text-anchor=\"middle\" x=\"156.75\" y=\"-420.8\" font-family=\"Times,serif\" font-size=\"14.00\"> error = 0.14</text>\n",
       "<text text-anchor=\"middle\" x=\"156.75\" y=\"-406.8\" font-family=\"Times,serif\" font-size=\"14.00\"> samples = 66</text>\n",
       "<text text-anchor=\"middle\" x=\"156.75\" y=\"-392.8\" font-family=\"Times,serif\" font-size=\"14.00\"> prob = 0.924</text>\n",
       "</g>\n",
       "<!-- 1&#45;&gt;4 -->\n",
       "<g id=\"edge4\" class=\"edge\"><title>1&#45;&gt;4</title>\n",
       "<path fill=\"none\" stroke=\"black\" d=\"M156.75,-485.992C156.75,-477.859 156.75,-468.959 156.75,-460.378\"/>\n",
       "<polygon fill=\"black\" stroke=\"black\" points=\"160.25,-460.142 156.75,-450.142 153.25,-460.142 160.25,-460.142\"/>\n",
       "</g>\n",
       "<!-- 5 -->\n",
       "<g id=\"node6\" class=\"node\"><title>5</title>\n",
       "<polygon fill=\"white\" stroke=\"black\" points=\"314.75,-450 220.749,-450 220.749,-386 314.75,-386 314.75,-450\"/>\n",
       "<text text-anchor=\"middle\" x=\"267.75\" y=\"-434.8\" font-family=\"Times,serif\" font-size=\"14.00\">X[1] &lt; 0.328</text>\n",
       "<text text-anchor=\"middle\" x=\"267.75\" y=\"-420.8\" font-family=\"Times,serif\" font-size=\"14.00\"> error = 0.158</text>\n",
       "<text text-anchor=\"middle\" x=\"267.75\" y=\"-406.8\" font-family=\"Times,serif\" font-size=\"14.00\"> samples = 58</text>\n",
       "<text text-anchor=\"middle\" x=\"267.75\" y=\"-392.8\" font-family=\"Times,serif\" font-size=\"14.00\"> prob = 0.086</text>\n",
       "</g>\n",
       "<!-- 2&#45;&gt;5 -->\n",
       "<g id=\"edge5\" class=\"edge\"><title>2&#45;&gt;5</title>\n",
       "<path fill=\"none\" stroke=\"black\" d=\"M267.75,-485.992C267.75,-477.859 267.75,-468.959 267.75,-460.378\"/>\n",
       "<polygon fill=\"black\" stroke=\"black\" points=\"271.25,-460.142 267.75,-450.142 264.25,-460.142 271.25,-460.142\"/>\n",
       "</g>\n",
       "<!-- 6 -->\n",
       "<g id=\"node7\" class=\"node\"><title>6</title>\n",
       "<polygon fill=\"red\" stroke=\"black\" points=\"419.25,-443 332.249,-443 332.249,-393 419.25,-393 419.25,-443\"/>\n",
       "<text text-anchor=\"middle\" x=\"375.75\" y=\"-427.8\" font-family=\"Times,serif\" font-size=\"14.00\">error = 0.0</text>\n",
       "<text text-anchor=\"middle\" x=\"375.75\" y=\"-413.8\" font-family=\"Times,serif\" font-size=\"14.00\"> samples = 6</text>\n",
       "<text text-anchor=\"middle\" x=\"375.75\" y=\"-399.8\" font-family=\"Times,serif\" font-size=\"14.00\"> prob = 1.0</text>\n",
       "</g>\n",
       "<!-- 2&#45;&gt;6 -->\n",
       "<g id=\"edge6\" class=\"edge\"><title>2&#45;&gt;6</title>\n",
       "<path fill=\"none\" stroke=\"black\" d=\"M301.921,-485.992C314.511,-474.568 328.77,-461.63 341.377,-450.19\"/>\n",
       "<polygon fill=\"black\" stroke=\"black\" points=\"343.93,-452.6 348.984,-443.288 339.226,-447.416 343.93,-452.6\"/>\n",
       "</g>\n",
       "<!-- 7 -->\n",
       "<g id=\"node8\" class=\"node\"><title>7</title>\n",
       "<polygon fill=\"red\" stroke=\"black\" points=\"93.7499,-343 -0.250851,-343 -0.250851,-293 93.7499,-293 93.7499,-343\"/>\n",
       "<text text-anchor=\"middle\" x=\"46.7495\" y=\"-327.8\" font-family=\"Times,serif\" font-size=\"14.00\">error = 0.0</text>\n",
       "<text text-anchor=\"middle\" x=\"46.7495\" y=\"-313.8\" font-family=\"Times,serif\" font-size=\"14.00\"> samples = 42</text>\n",
       "<text text-anchor=\"middle\" x=\"46.7495\" y=\"-299.8\" font-family=\"Times,serif\" font-size=\"14.00\"> prob = 1.0</text>\n",
       "</g>\n",
       "<!-- 4&#45;&gt;7 -->\n",
       "<g id=\"edge7\" class=\"edge\"><title>4&#45;&gt;7</title>\n",
       "<path fill=\"none\" stroke=\"black\" d=\"M121.945,-385.992C109.122,-374.568 94.599,-361.63 81.7585,-350.19\"/>\n",
       "<polygon fill=\"black\" stroke=\"black\" points=\"83.806,-347.326 74.0112,-343.288 79.1496,-352.553 83.806,-347.326\"/>\n",
       "</g>\n",
       "<!-- 8 -->\n",
       "<g id=\"node9\" class=\"node\"><title>8</title>\n",
       "<polygon fill=\"white\" stroke=\"black\" points=\"204.75,-350 110.749,-350 110.749,-286 204.75,-286 204.75,-350\"/>\n",
       "<text text-anchor=\"middle\" x=\"157.75\" y=\"-334.8\" font-family=\"Times,serif\" font-size=\"14.00\">X[0] &lt; 0.568</text>\n",
       "<text text-anchor=\"middle\" x=\"157.75\" y=\"-320.8\" font-family=\"Times,serif\" font-size=\"14.00\"> error = 0.33</text>\n",
       "<text text-anchor=\"middle\" x=\"157.75\" y=\"-306.8\" font-family=\"Times,serif\" font-size=\"14.00\"> samples = 24</text>\n",
       "<text text-anchor=\"middle\" x=\"157.75\" y=\"-292.8\" font-family=\"Times,serif\" font-size=\"14.00\"> prob = 0.792</text>\n",
       "</g>\n",
       "<!-- 4&#45;&gt;8 -->\n",
       "<g id=\"edge8\" class=\"edge\"><title>4&#45;&gt;8</title>\n",
       "<path fill=\"none\" stroke=\"black\" d=\"M157.066,-385.992C157.149,-377.859 157.24,-368.959 157.327,-360.378\"/>\n",
       "<polygon fill=\"black\" stroke=\"black\" points=\"160.829,-360.178 157.432,-350.142 153.83,-360.106 160.829,-360.178\"/>\n",
       "</g>\n",
       "<!-- 9 -->\n",
       "<g id=\"node10\" class=\"node\"><title>9</title>\n",
       "<polygon fill=\"blue\" stroke=\"black\" points=\"310.25,-343 223.249,-343 223.249,-293 310.25,-293 310.25,-343\"/>\n",
       "<text text-anchor=\"middle\" x=\"266.75\" y=\"-327.8\" font-family=\"Times,serif\" font-size=\"14.00\">error = 0.5</text>\n",
       "<text text-anchor=\"middle\" x=\"266.75\" y=\"-313.8\" font-family=\"Times,serif\" font-size=\"14.00\"> samples = 4</text>\n",
       "<text text-anchor=\"middle\" x=\"266.75\" y=\"-299.8\" font-family=\"Times,serif\" font-size=\"14.00\"> prob = 0.5</text>\n",
       "</g>\n",
       "<!-- 5&#45;&gt;9 -->\n",
       "<g id=\"edge9\" class=\"edge\"><title>5&#45;&gt;9</title>\n",
       "<path fill=\"none\" stroke=\"black\" d=\"M267.433,-385.992C267.328,-375.646 267.209,-364.057 267.101,-353.465\"/>\n",
       "<polygon fill=\"black\" stroke=\"black\" points=\"270.599,-353.251 266.997,-343.288 263.6,-353.323 270.599,-353.251\"/>\n",
       "</g>\n",
       "<!-- 10 -->\n",
       "<g id=\"node11\" class=\"node\"><title>10</title>\n",
       "<polygon fill=\"white\" stroke=\"black\" points=\"421.75,-350 327.749,-350 327.749,-286 421.75,-286 421.75,-350\"/>\n",
       "<text text-anchor=\"middle\" x=\"374.75\" y=\"-334.8\" font-family=\"Times,serif\" font-size=\"14.00\">X[1] &lt; 0.602</text>\n",
       "<text text-anchor=\"middle\" x=\"374.75\" y=\"-320.8\" font-family=\"Times,serif\" font-size=\"14.00\"> error = 0.105</text>\n",
       "<text text-anchor=\"middle\" x=\"374.75\" y=\"-306.8\" font-family=\"Times,serif\" font-size=\"14.00\"> samples = 54</text>\n",
       "<text text-anchor=\"middle\" x=\"374.75\" y=\"-292.8\" font-family=\"Times,serif\" font-size=\"14.00\"> prob = 0.056</text>\n",
       "</g>\n",
       "<!-- 5&#45;&gt;10 -->\n",
       "<g id=\"edge10\" class=\"edge\"><title>5&#45;&gt;10</title>\n",
       "<path fill=\"none\" stroke=\"black\" d=\"M301.605,-385.992C311.656,-376.787 322.78,-366.598 333.257,-357.002\"/>\n",
       "<polygon fill=\"black\" stroke=\"black\" points=\"335.737,-359.478 340.747,-350.142 331.009,-354.316 335.737,-359.478\"/>\n",
       "</g>\n",
       "<!-- 11 -->\n",
       "<g id=\"node12\" class=\"node\"><title>11</title>\n",
       "<polygon fill=\"red\" stroke=\"black\" points=\"119.236,-243 26.2632,-243 26.2632,-193 119.236,-193 119.236,-243\"/>\n",
       "<text text-anchor=\"middle\" x=\"72.7495\" y=\"-227.8\" font-family=\"Times,serif\" font-size=\"14.00\">error = 0.0</text>\n",
       "<text text-anchor=\"middle\" x=\"72.7495\" y=\"-213.8\" font-family=\"Times,serif\" font-size=\"14.00\"> samples = 11</text>\n",
       "<text text-anchor=\"middle\" x=\"72.7495\" y=\"-199.8\" font-family=\"Times,serif\" font-size=\"14.00\"> prob = 1.0</text>\n",
       "</g>\n",
       "<!-- 8&#45;&gt;11 -->\n",
       "<g id=\"edge11\" class=\"edge\"><title>8&#45;&gt;11</title>\n",
       "<path fill=\"none\" stroke=\"black\" d=\"M130.855,-285.992C121.227,-274.892 110.358,-262.361 100.647,-251.165\"/>\n",
       "<polygon fill=\"black\" stroke=\"black\" points=\"103.012,-248.549 93.8153,-243.288 97.7236,-253.135 103.012,-248.549\"/>\n",
       "</g>\n",
       "<!-- 12 -->\n",
       "<g id=\"node13\" class=\"node\"><title>12</title>\n",
       "<polygon fill=\"white\" stroke=\"black\" points=\"230.75,-250 136.749,-250 136.749,-186 230.75,-186 230.75,-250\"/>\n",
       "<text text-anchor=\"middle\" x=\"183.75\" y=\"-234.8\" font-family=\"Times,serif\" font-size=\"14.00\">X[0] &lt; 1.168</text>\n",
       "<text text-anchor=\"middle\" x=\"183.75\" y=\"-220.8\" font-family=\"Times,serif\" font-size=\"14.00\"> error = 0.473</text>\n",
       "<text text-anchor=\"middle\" x=\"183.75\" y=\"-206.8\" font-family=\"Times,serif\" font-size=\"14.00\"> samples = 13</text>\n",
       "<text text-anchor=\"middle\" x=\"183.75\" y=\"-192.8\" font-family=\"Times,serif\" font-size=\"14.00\"> prob = 0.615</text>\n",
       "</g>\n",
       "<!-- 8&#45;&gt;12 -->\n",
       "<g id=\"edge12\" class=\"edge\"><title>8&#45;&gt;12</title>\n",
       "<path fill=\"none\" stroke=\"black\" d=\"M165.976,-285.992C168.181,-277.681 170.599,-268.567 172.922,-259.812\"/>\n",
       "<polygon fill=\"black\" stroke=\"black\" points=\"176.306,-260.706 175.487,-250.142 169.54,-258.911 176.306,-260.706\"/>\n",
       "</g>\n",
       "<!-- 13 -->\n",
       "<g id=\"node14\" class=\"node\"><title>13</title>\n",
       "<polygon fill=\"white\" stroke=\"black\" points=\"394.75,-250 300.749,-250 300.749,-186 394.75,-186 394.75,-250\"/>\n",
       "<text text-anchor=\"middle\" x=\"347.75\" y=\"-234.8\" font-family=\"Times,serif\" font-size=\"14.00\">X[1] &lt; 0.47</text>\n",
       "<text text-anchor=\"middle\" x=\"347.75\" y=\"-220.8\" font-family=\"Times,serif\" font-size=\"14.00\"> error = 0.255</text>\n",
       "<text text-anchor=\"middle\" x=\"347.75\" y=\"-206.8\" font-family=\"Times,serif\" font-size=\"14.00\"> samples = 20</text>\n",
       "<text text-anchor=\"middle\" x=\"347.75\" y=\"-192.8\" font-family=\"Times,serif\" font-size=\"14.00\"> prob = 0.15</text>\n",
       "</g>\n",
       "<!-- 10&#45;&gt;13 -->\n",
       "<g id=\"edge13\" class=\"edge\"><title>10&#45;&gt;13</title>\n",
       "<path fill=\"none\" stroke=\"black\" d=\"M366.207,-285.992C363.917,-277.681 361.406,-268.567 358.994,-259.812\"/>\n",
       "<polygon fill=\"black\" stroke=\"black\" points=\"362.36,-258.854 356.33,-250.142 355.612,-260.713 362.36,-258.854\"/>\n",
       "</g>\n",
       "<!-- 14 -->\n",
       "<g id=\"node15\" class=\"node\"><title>14</title>\n",
       "<polygon fill=\"blue\" stroke=\"black\" points=\"505.75,-243 411.749,-243 411.749,-193 505.75,-193 505.75,-243\"/>\n",
       "<text text-anchor=\"middle\" x=\"458.75\" y=\"-227.8\" font-family=\"Times,serif\" font-size=\"14.00\">error = 0.0</text>\n",
       "<text text-anchor=\"middle\" x=\"458.75\" y=\"-213.8\" font-family=\"Times,serif\" font-size=\"14.00\"> samples = 34</text>\n",
       "<text text-anchor=\"middle\" x=\"458.75\" y=\"-199.8\" font-family=\"Times,serif\" font-size=\"14.00\"> prob = 0.0</text>\n",
       "</g>\n",
       "<!-- 10&#45;&gt;14 -->\n",
       "<g id=\"edge14\" class=\"edge\"><title>10&#45;&gt;14</title>\n",
       "<path fill=\"none\" stroke=\"black\" d=\"M401.328,-285.992C410.842,-274.892 421.583,-262.361 431.18,-251.165\"/>\n",
       "<polygon fill=\"black\" stroke=\"black\" points=\"434.081,-253.158 437.932,-243.288 428.766,-248.602 434.081,-253.158\"/>\n",
       "</g>\n",
       "<!-- 15 -->\n",
       "<g id=\"node16\" class=\"node\"><title>15</title>\n",
       "<polygon fill=\"blue\" stroke=\"black\" points=\"124.25,-143 37.249,-143 37.249,-93 124.25,-93 124.25,-143\"/>\n",
       "<text text-anchor=\"middle\" x=\"80.7495\" y=\"-127.8\" font-family=\"Times,serif\" font-size=\"14.00\">error = 0.0</text>\n",
       "<text text-anchor=\"middle\" x=\"80.7495\" y=\"-113.8\" font-family=\"Times,serif\" font-size=\"14.00\"> samples = 5</text>\n",
       "<text text-anchor=\"middle\" x=\"80.7495\" y=\"-99.8\" font-family=\"Times,serif\" font-size=\"14.00\"> prob = 0.0</text>\n",
       "</g>\n",
       "<!-- 12&#45;&gt;15 -->\n",
       "<g id=\"edge15\" class=\"edge\"><title>12&#45;&gt;15</title>\n",
       "<path fill=\"none\" stroke=\"black\" d=\"M151.16,-185.992C139.153,-174.568 125.554,-161.63 113.531,-150.19\"/>\n",
       "<polygon fill=\"black\" stroke=\"black\" points=\"115.934,-147.645 106.276,-143.288 111.109,-152.716 115.934,-147.645\"/>\n",
       "</g>\n",
       "<!-- 16 -->\n",
       "<g id=\"node17\" class=\"node\"><title>16</title>\n",
       "<polygon fill=\"red\" stroke=\"black\" points=\"228.25,-143 141.249,-143 141.249,-93 228.25,-93 228.25,-143\"/>\n",
       "<text text-anchor=\"middle\" x=\"184.75\" y=\"-127.8\" font-family=\"Times,serif\" font-size=\"14.00\">error = 0.0</text>\n",
       "<text text-anchor=\"middle\" x=\"184.75\" y=\"-113.8\" font-family=\"Times,serif\" font-size=\"14.00\"> samples = 8</text>\n",
       "<text text-anchor=\"middle\" x=\"184.75\" y=\"-99.8\" font-family=\"Times,serif\" font-size=\"14.00\"> prob = 1.0</text>\n",
       "</g>\n",
       "<!-- 12&#45;&gt;16 -->\n",
       "<g id=\"edge16\" class=\"edge\"><title>12&#45;&gt;16</title>\n",
       "<path fill=\"none\" stroke=\"black\" d=\"M184.066,-185.992C184.171,-175.646 184.29,-164.057 184.398,-153.465\"/>\n",
       "<polygon fill=\"black\" stroke=\"black\" points=\"187.899,-153.323 184.502,-143.288 180.9,-153.251 187.899,-153.323\"/>\n",
       "</g>\n",
       "<!-- 17 -->\n",
       "<g id=\"node18\" class=\"node\"><title>17</title>\n",
       "<polygon fill=\"blue\" stroke=\"black\" points=\"340.75,-143 246.749,-143 246.749,-93 340.75,-93 340.75,-143\"/>\n",
       "<text text-anchor=\"middle\" x=\"293.75\" y=\"-127.8\" font-family=\"Times,serif\" font-size=\"14.00\">error = 0.0</text>\n",
       "<text text-anchor=\"middle\" x=\"293.75\" y=\"-113.8\" font-family=\"Times,serif\" font-size=\"14.00\"> samples = 12</text>\n",
       "<text text-anchor=\"middle\" x=\"293.75\" y=\"-99.8\" font-family=\"Times,serif\" font-size=\"14.00\"> prob = 0.0</text>\n",
       "</g>\n",
       "<!-- 13&#45;&gt;17 -->\n",
       "<g id=\"edge17\" class=\"edge\"><title>13&#45;&gt;17</title>\n",
       "<path fill=\"none\" stroke=\"black\" d=\"M330.664,-185.992C324.725,-175.215 318.044,-163.09 312.014,-152.146\"/>\n",
       "<polygon fill=\"black\" stroke=\"black\" points=\"315.024,-150.357 307.133,-143.288 308.893,-153.735 315.024,-150.357\"/>\n",
       "</g>\n",
       "<!-- 18 -->\n",
       "<g id=\"node19\" class=\"node\"><title>18</title>\n",
       "<polygon fill=\"white\" stroke=\"black\" points=\"451.743,-150 357.756,-150 357.756,-86 451.743,-86 451.743,-150\"/>\n",
       "<text text-anchor=\"middle\" x=\"404.75\" y=\"-134.8\" font-family=\"Times,serif\" font-size=\"14.00\">X[0] &lt; &#45;0.216</text>\n",
       "<text text-anchor=\"middle\" x=\"404.75\" y=\"-120.8\" font-family=\"Times,serif\" font-size=\"14.00\"> error = 0.469</text>\n",
       "<text text-anchor=\"middle\" x=\"404.75\" y=\"-106.8\" font-family=\"Times,serif\" font-size=\"14.00\"> samples = 8</text>\n",
       "<text text-anchor=\"middle\" x=\"404.75\" y=\"-92.8\" font-family=\"Times,serif\" font-size=\"14.00\"> prob = 0.375</text>\n",
       "</g>\n",
       "<!-- 13&#45;&gt;18 -->\n",
       "<g id=\"edge18\" class=\"edge\"><title>13&#45;&gt;18</title>\n",
       "<path fill=\"none\" stroke=\"black\" d=\"M365.785,-185.992C370.775,-177.413 376.262,-167.978 381.504,-158.966\"/>\n",
       "<polygon fill=\"black\" stroke=\"black\" points=\"384.634,-160.546 386.636,-150.142 378.583,-157.027 384.634,-160.546\"/>\n",
       "</g>\n",
       "<!-- 19 -->\n",
       "<g id=\"node20\" class=\"node\"><title>19</title>\n",
       "<polygon fill=\"blue\" stroke=\"black\" points=\"396.346,-50 307.153,-50 307.153,-0 396.346,-0 396.346,-50\"/>\n",
       "<text text-anchor=\"middle\" x=\"351.75\" y=\"-34.8\" font-family=\"Times,serif\" font-size=\"14.00\">error = 0.375</text>\n",
       "<text text-anchor=\"middle\" x=\"351.75\" y=\"-20.8\" font-family=\"Times,serif\" font-size=\"14.00\"> samples = 4</text>\n",
       "<text text-anchor=\"middle\" x=\"351.75\" y=\"-6.8\" font-family=\"Times,serif\" font-size=\"14.00\"> prob = 0.25</text>\n",
       "</g>\n",
       "<!-- 18&#45;&gt;19 -->\n",
       "<g id=\"edge19\" class=\"edge\"><title>18&#45;&gt;19</title>\n",
       "<path fill=\"none\" stroke=\"black\" d=\"M386.658,-85.9375C381.584,-77.2247 376.05,-67.724 370.916,-58.9078\"/>\n",
       "<polygon fill=\"black\" stroke=\"black\" points=\"373.802,-56.9098 365.745,-50.0301 367.753,-60.4328 373.802,-56.9098\"/>\n",
       "</g>\n",
       "<!-- 20 -->\n",
       "<g id=\"node21\" class=\"node\"><title>20</title>\n",
       "<polygon fill=\"blue\" stroke=\"black\" points=\"501.25,-50 414.249,-50 414.249,-0 501.25,-0 501.25,-50\"/>\n",
       "<text text-anchor=\"middle\" x=\"457.75\" y=\"-34.8\" font-family=\"Times,serif\" font-size=\"14.00\">error = 0.5</text>\n",
       "<text text-anchor=\"middle\" x=\"457.75\" y=\"-20.8\" font-family=\"Times,serif\" font-size=\"14.00\"> samples = 4</text>\n",
       "<text text-anchor=\"middle\" x=\"457.75\" y=\"-6.8\" font-family=\"Times,serif\" font-size=\"14.00\"> prob = 0.5</text>\n",
       "</g>\n",
       "<!-- 18&#45;&gt;20 -->\n",
       "<g id=\"edge20\" class=\"edge\"><title>18&#45;&gt;20</title>\n",
       "<path fill=\"none\" stroke=\"black\" d=\"M422.841,-85.9375C427.915,-77.2247 433.449,-67.724 438.583,-58.9078\"/>\n",
       "<polygon fill=\"black\" stroke=\"black\" points=\"441.746,-60.4328 443.754,-50.0301 435.697,-56.9098 441.746,-60.4328\"/>\n",
       "</g>\n",
       "</g>\n",
       "</svg>\n"
      ],
      "text/plain": [
       "<graphviz.files.Source at 0x1151fc750>"
      ]
     },
     "execution_count": 46,
     "metadata": {},
     "output_type": "execute_result"
    }
   ],
   "source": [
    "dot = Source(open('classification_tree_manual.dot').read())\n",
    "dot"
   ]
  },
  {
   "cell_type": "code",
   "execution_count": 47,
   "metadata": {
    "collapsed": false
   },
   "outputs": [
    {
     "data": {
      "image/png": "[encoded data removed]",
      "text/plain": [
       "<matplotlib.figure.Figure at 0x1151fcf90>"
      ]
     },
     "metadata": {},
     "output_type": "display_data"
    }
   ],
   "source": [
    "plot_decision_boundary(tree, xmin=-2.0, xmax=2.5, ymin=-1.5, ymax=1.5)"
   ]
  },
  {
   "cell_type": "markdown",
   "metadata": {},
   "source": [
    "# Gradient trees boosting (XGBOOST)"
   ]
  },
  {
   "cell_type": "markdown",
   "metadata": {},
   "source": [
    "We will use the same Boston data from scikit-learn package."
   ]
  },
  {
   "cell_type": "code",
   "execution_count": 3,
   "metadata": {
    "collapsed": false
   },
   "outputs": [],
   "source": [
    "boston = ds.load_boston()\n",
    "X = boston.data\n",
    "y = boston.target/50.\n",
    "X_train, X_test, y_train, y_test = train_test_split(X, y, test_size=0.33, random_state=42)"
   ]
  },
  {
   "cell_type": "code",
   "execution_count": 4,
   "metadata": {
    "collapsed": false
   },
   "outputs": [
    {
     "name": "stdout",
     "output_type": "stream",
     "text": [
      "Number of training examples: 506\n",
      "Number of features: 13\n"
     ]
    }
   ],
   "source": [
    "print 'Number of training examples: ' + str(X.shape[0])\n",
    "print 'Number of features: ' + str(X.shape[1])"
   ]
  },
  {
   "cell_type": "markdown",
   "metadata": {},
   "source": [
    "Now we train the gradient trees boosting model implemented in the package xgboost:"
   ]
  },
  {
   "cell_type": "code",
   "execution_count": 5,
   "metadata": {
    "collapsed": false
   },
   "outputs": [
    {
     "name": "stdout",
     "output_type": "stream",
     "text": [
      "0.108290326706\n"
     ]
    }
   ],
   "source": [
    "import xgboost as xgb\n",
    "\n",
    "param = {}\n",
    "param['objective'] = 'reg:linear'\n",
    "param['eta'] = 0.03\n",
    "param['max_depth'] = 10\n",
    "param['eval_metric'] = 'rmse'\n",
    "param['silent'] = 1\n",
    "param['nthread'] = 8\n",
    "param['gamma'] = 1.0\n",
    "#param['alpha'] = 1.0\n",
    "param['lambda'] = 0.0\n",
    "param['min_child_weight'] = 1\n",
    "param['subsample'] = 0.8\n",
    "param['colsample_bytree'] = 1.0\n",
    "num_round = 1000\n",
    "param['seed'] = 2657\n",
    "plst = list(param.items())\n",
    "\n",
    "xgmat_train = xgb.DMatrix(X_train, label=y_train, missing = -999.0)\n",
    "bst = xgb.train( plst, xgmat_train, num_round );\n",
    "xgmat_test = xgb.DMatrix(X_test, missing = -999.0)\n",
    "y_pred = bst.predict( xgmat_test )\n",
    "print rmse(y_test, y_pred)"
   ]
  }
 ],
 "metadata": {
  "kernelspec": {
   "display_name": "Python 2",
   "language": "python",
   "name": "python2"
  },
  "language_info": {
   "codemirror_mode": {
    "name": "ipython",
    "version": 2
   },
   "file_extension": ".py",
   "mimetype": "text/x-python",
   "name": "python",
   "nbconvert_exporter": "python",
   "pygments_lexer": "ipython2",
   "version": "2.7.11"
  }
 },
 "nbformat": 4,
 "nbformat_minor": 0
}
